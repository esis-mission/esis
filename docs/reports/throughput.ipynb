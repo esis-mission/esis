{
 "cells": [
  {
   "metadata": {},
   "cell_type": "markdown",
   "source": [
    "# Throughput\n",
    "\n",
    "This report investigates the efficiency of each ESIS optical component\n",
    "and estimates the total sensitivity of the optics (not including the sensor)."
   ],
   "id": "75f4ec00464c9d50"
  },
  {
   "cell_type": "code",
   "id": "initial_id",
   "metadata": {
    "collapsed": true,
    "ExecuteTime": {
     "end_time": "2025-08-18T16:53:55.117783Z",
     "start_time": "2025-08-18T16:53:52.344780Z"
    }
   },
   "source": [
    "import matplotlib.pyplot as plt\n",
    "import astropy.visualization\n",
    "import astropy.units as u\n",
    "import named_arrays as na\n",
    "import esis"
   ],
   "outputs": [],
   "execution_count": 1
  },
  {
   "metadata": {},
   "cell_type": "markdown",
   "source": "Load the optical design",
   "id": "d5a705d59f31b6c1"
  },
  {
   "metadata": {
    "ExecuteTime": {
     "end_time": "2025-08-18T16:53:55.749281Z",
     "start_time": "2025-08-18T16:53:55.119781Z"
    }
   },
   "cell_type": "code",
   "source": [
    "instrument = esis.flights.f1.optics.design_single(num_distribution=0)\n",
    "instrument.wavelength = na.linspace(-1, 1, axis=\"wavelength\", num=11)"
   ],
   "id": "9402b7567be4e449",
   "outputs": [],
   "execution_count": 2
  },
  {
   "metadata": {},
   "cell_type": "markdown",
   "source": "Trace rays through the optical design",
   "id": "527e01bf1d647cf7"
  },
  {
   "metadata": {
    "ExecuteTime": {
     "end_time": "2025-08-18T16:54:04.926285Z",
     "start_time": "2025-08-18T16:53:55.750280Z"
    }
   },
   "cell_type": "code",
   "source": "rays = instrument.system.raytrace().outputs",
   "id": "6666c7055cc1b99a",
   "outputs": [
    {
     "name": "stdout",
     "output_type": "stream",
     "text": [
      "self.name='grating'\n",
      "np.mean(efficiency)=UncertainScalarArray(\n",
      "    nominal=ScalarArray(\n",
      "        ndarray=6.94716053 ,\n",
      "        axes=(),\n",
      "    ),\n",
      "    distribution=ScalarArray(\n",
      "        ndarray=[] ,\n",
      "        axes=('_distribution',),\n",
      "    ),\n",
      ")\n"
     ]
    },
    {
     "name": "stderr",
     "output_type": "stream",
     "text": [
      "WARNING: function 'sqrt' is not known to astropy's Quantity. Will run it anyway, hoping it will treat ndarray subclasses correctly. Please raise an issue at https://github.com/astropy/astropy/issues. [astropy.units.quantity]\n",
      "C:\\Users\\byrdie\\AppData\\Local\\Programs\\Python\\Python311\\Lib\\site-packages\\astropy\\units\\quantity.py:658: RuntimeWarning: divide by zero encountered in divide\n",
      "  result = super().__array_ufunc__(function, method, *arrays, **kwargs)\n"
     ]
    },
    {
     "name": "stdout",
     "output_type": "stream",
     "text": [
      "self.name='grating'\n",
      "np.mean(efficiency)=UncertainScalarArray(\n",
      "    nominal=ScalarArray(\n",
      "        ndarray=6.94716053 ,\n",
      "        axes=(),\n",
      "    ),\n",
      "    distribution=ScalarArray(\n",
      "        ndarray=[] ,\n",
      "        axes=('_distribution',),\n",
      "    ),\n",
      ")\n",
      "self.name='grating'\n",
      "np.mean(efficiency)=UncertainScalarArray(\n",
      "    nominal=ScalarArray(\n",
      "        ndarray=6.94716053 ,\n",
      "        axes=(),\n",
      "    ),\n",
      "    distribution=ScalarArray(\n",
      "        ndarray=[] ,\n",
      "        axes=('_distribution',),\n",
      "    ),\n",
      ")\n",
      "self.name='grating'\n",
      "np.mean(efficiency)=UncertainScalarArray(\n",
      "    nominal=ScalarArray(\n",
      "        ndarray=6.94716053 ,\n",
      "        axes=(),\n",
      "    ),\n",
      "    distribution=ScalarArray(\n",
      "        ndarray=[] ,\n",
      "        axes=('_distribution',),\n",
      "    ),\n",
      ")\n",
      "self.name='grating'\n",
      "np.mean(efficiency)=UncertainScalarArray(\n",
      "    nominal=ScalarArray(\n",
      "        ndarray=6.94716053 ,\n",
      "        axes=(),\n",
      "    ),\n",
      "    distribution=ScalarArray(\n",
      "        ndarray=[] ,\n",
      "        axes=('_distribution',),\n",
      "    ),\n",
      ")\n",
      "self.name='grating'\n",
      "np.mean(efficiency)=UncertainScalarArray(\n",
      "    nominal=ScalarArray(\n",
      "        ndarray=6.94716053 ,\n",
      "        axes=(),\n",
      "    ),\n",
      "    distribution=ScalarArray(\n",
      "        ndarray=[] ,\n",
      "        axes=('_distribution',),\n",
      "    ),\n",
      ")\n",
      "self.name='grating'\n",
      "np.mean(efficiency)=UncertainScalarArray(\n",
      "    nominal=ScalarArray(\n",
      "        ndarray=7.00164826 ,\n",
      "        axes=(),\n",
      "    ),\n",
      "    distribution=ScalarArray(\n",
      "        ndarray=[] ,\n",
      "        axes=('_distribution',),\n",
      "    ),\n",
      ")\n",
      "self.name='grating'\n",
      "np.mean(efficiency)=UncertainScalarArray(\n",
      "    nominal=ScalarArray(\n",
      "        ndarray=7.00164826 ,\n",
      "        axes=(),\n",
      "    ),\n",
      "    distribution=ScalarArray(\n",
      "        ndarray=[] ,\n",
      "        axes=('_distribution',),\n",
      "    ),\n",
      ")\n",
      "self.name='grating'\n",
      "np.mean(efficiency)=UncertainScalarArray(\n",
      "    nominal=ScalarArray(\n",
      "        ndarray=7.00164826 ,\n",
      "        axes=(),\n",
      "    ),\n",
      "    distribution=ScalarArray(\n",
      "        ndarray=[] ,\n",
      "        axes=('_distribution',),\n",
      "    ),\n",
      ")\n",
      "self.name='grating'\n",
      "np.mean(efficiency)=UncertainScalarArray(\n",
      "    nominal=ScalarArray(\n",
      "        ndarray=7.00164826 ,\n",
      "        axes=(),\n",
      "    ),\n",
      "    distribution=ScalarArray(\n",
      "        ndarray=[] ,\n",
      "        axes=('_distribution',),\n",
      "    ),\n",
      ")\n",
      "self.name='grating'\n",
      "np.mean(efficiency)=UncertainScalarArray(\n",
      "    nominal=ScalarArray(\n",
      "        ndarray=7.00164826 ,\n",
      "        axes=(),\n",
      "    ),\n",
      "    distribution=ScalarArray(\n",
      "        ndarray=[] ,\n",
      "        axes=('_distribution',),\n",
      "    ),\n",
      ")\n",
      "self.name='grating'\n",
      "np.mean(efficiency)=UncertainScalarArray(\n",
      "    nominal=ScalarArray(\n",
      "        ndarray=7.00165534 ,\n",
      "        axes=(),\n",
      "    ),\n",
      "    distribution=ScalarArray(\n",
      "        ndarray=[] ,\n",
      "        axes=('_distribution',),\n",
      "    ),\n",
      ")\n",
      "self.name='grating'\n",
      "np.mean(efficiency)=UncertainScalarArray(\n",
      "    nominal=ScalarArray(\n",
      "        ndarray=7.00165534 ,\n",
      "        axes=(),\n",
      "    ),\n",
      "    distribution=ScalarArray(\n",
      "        ndarray=[] ,\n",
      "        axes=('_distribution',),\n",
      "    ),\n",
      ")\n",
      "self.name='grating'\n",
      "np.mean(efficiency)=UncertainScalarArray(\n",
      "    nominal=ScalarArray(\n",
      "        ndarray=7.00165534 ,\n",
      "        axes=(),\n",
      "    ),\n",
      "    distribution=ScalarArray(\n",
      "        ndarray=[] ,\n",
      "        axes=('_distribution',),\n",
      "    ),\n",
      ")\n",
      "self.name='grating'\n",
      "np.mean(efficiency)=UncertainScalarArray(\n",
      "    nominal=ScalarArray(\n",
      "        ndarray=7.00165534 ,\n",
      "        axes=(),\n",
      "    ),\n",
      "    distribution=ScalarArray(\n",
      "        ndarray=[] ,\n",
      "        axes=('_distribution',),\n",
      "    ),\n",
      ")\n",
      "self.name='grating'\n",
      "np.mean(efficiency)=UncertainScalarArray(\n",
      "    nominal=ScalarArray(\n",
      "        ndarray=7.00165534 ,\n",
      "        axes=(),\n",
      "    ),\n",
      "    distribution=ScalarArray(\n",
      "        ndarray=[] ,\n",
      "        axes=('_distribution',),\n",
      "    ),\n",
      ")\n",
      "self.name='grating'\n",
      "np.mean(efficiency)=UncertainScalarArray(\n",
      "    nominal=ScalarArray(\n",
      "        ndarray=7.00165534 ,\n",
      "        axes=(),\n",
      "    ),\n",
      "    distribution=ScalarArray(\n",
      "        ndarray=[] ,\n",
      "        axes=('_distribution',),\n",
      "    ),\n",
      ")\n",
      "self.name='field stop'\n",
      "np.mean(efficiency)=1.0\n",
      "self.name='primary'\n",
      "np.mean(efficiency)=UncertainScalarArray(\n",
      "    nominal=ScalarArray(\n",
      "        ndarray=0.23607643 ,\n",
      "        axes=(),\n",
      "    ),\n",
      "    distribution=ScalarArray(\n",
      "        ndarray=[] ,\n",
      "        axes=('_distribution',),\n",
      "    ),\n",
      ")\n",
      "self.name='obscuration'\n",
      "np.mean(efficiency)=1.0\n",
      "self.name='front aperture'\n",
      "np.mean(efficiency)=1.0\n",
      "self.name=None\n",
      "np.mean(efficiency)=1.0\n",
      "self.name=None\n",
      "np.mean(efficiency)=1.0\n",
      "self.name='front aperture'\n",
      "np.mean(efficiency)=1.0\n",
      "self.name='obscuration'\n",
      "np.mean(efficiency)=1.0\n",
      "self.name='primary'\n",
      "np.mean(efficiency)=UncertainScalarArray(\n",
      "    nominal=ScalarArray(\n",
      "        ndarray=0.23609589 ,\n",
      "        axes=(),\n",
      "    ),\n",
      "    distribution=ScalarArray(\n",
      "        ndarray=[] ,\n",
      "        axes=('_distribution',),\n",
      "    ),\n",
      ")\n",
      "self.name='field stop'\n",
      "np.mean(efficiency)=1.0\n",
      "self.name='grating'\n",
      "np.mean(efficiency)=UncertainScalarArray(\n",
      "    nominal=ScalarArray(\n",
      "        ndarray=0.18169409 ,\n",
      "        axes=(),\n",
      "    ),\n",
      "    distribution=ScalarArray(\n",
      "        ndarray=[] ,\n",
      "        axes=('_distribution',),\n",
      "    ),\n",
      ")\n",
      "self.name='filter'\n",
      "np.mean(efficiency)=UncertainScalarArray(\n",
      "    nominal=ScalarArray(\n",
      "        ndarray=0.14314005 ,\n",
      "        axes=(),\n",
      "    ),\n",
      "    distribution=ScalarArray(\n",
      "        ndarray=[] ,\n",
      "        axes=('_distribution',),\n",
      "    ),\n",
      ")\n",
      "self.name='sensor'\n",
      "np.mean(efficiency)=1.0\n"
     ]
    }
   ],
   "execution_count": 3
  },
  {
   "metadata": {},
   "cell_type": "markdown",
   "source": "Create a list with the names of each surface",
   "id": "88620e2df33bf51c"
  },
  {
   "metadata": {
    "ExecuteTime": {
     "end_time": "2025-08-18T16:54:11.839329Z",
     "start_time": "2025-08-18T16:54:11.835828Z"
    }
   },
   "cell_type": "code",
   "source": "surface_names = [s.name for s in instrument.system.surfaces_all]",
   "id": "61fbc5b9902c298f",
   "outputs": [],
   "execution_count": 4
  },
  {
   "metadata": {},
   "cell_type": "markdown",
   "source": "Isolate the name of the logical axis indicating different surfaces",
   "id": "2c9e1ac0a44f61be"
  },
  {
   "metadata": {
    "ExecuteTime": {
     "end_time": "2025-08-18T16:54:14.905828Z",
     "start_time": "2025-08-18T16:54:14.902331Z"
    }
   },
   "cell_type": "code",
   "source": "axis_surface = instrument.system.axis_surface",
   "id": "8f1c8bc22b01f3e9",
   "outputs": [],
   "execution_count": 5
  },
  {
   "metadata": {},
   "cell_type": "markdown",
   "source": "Compute the index of each surface",
   "id": "731a045bfe64aad0"
  },
  {
   "metadata": {
    "ExecuteTime": {
     "end_time": "2025-08-18T16:54:28.424781Z",
     "start_time": "2025-08-18T16:54:28.330780Z"
    }
   },
   "cell_type": "code",
   "source": [
    "index_source = 0\n",
    "index_primary = surface_names.index(instrument.primary_mirror.surface.name)\n",
    "index_grating = surface_names.index(instrument.grating.surface.name)\n",
    "index_filter = surface_names.index(instrument.filter.surface.name)"
   ],
   "id": "c702b83c2632b2b4",
   "outputs": [],
   "execution_count": 7
  },
  {
   "metadata": {},
   "cell_type": "markdown",
   "source": "Compute the intensity of the rays at each surface",
   "id": "4b16225849254f9"
  },
  {
   "metadata": {
    "ExecuteTime": {
     "end_time": "2025-08-18T16:54:31.517781Z",
     "start_time": "2025-08-18T16:54:31.511280Z"
    }
   },
   "cell_type": "code",
   "source": [
    "axis_sum = instrument.field.axes + instrument.pupil.axes\n",
    "intensity_source = rays.intensity[{axis_surface: index_source}].sum(axis_sum)\n",
    "intensity_primary = rays.intensity[{axis_surface: index_primary}].sum(axis_sum)\n",
    "intensity_grating = rays.intensity[{axis_surface: index_grating}].sum(axis_sum)\n",
    "intensity_filter = rays.intensity[{axis_surface: index_filter}].sum(axis_sum)"
   ],
   "id": "1c5016ff84c96bec",
   "outputs": [],
   "execution_count": 8
  },
  {
   "metadata": {},
   "cell_type": "markdown",
   "source": "Compute the efficiency of each surface by taking intensity ratios",
   "id": "9144f88901186289"
  },
  {
   "metadata": {
    "ExecuteTime": {
     "end_time": "2025-08-18T16:54:35.130414Z",
     "start_time": "2025-08-18T16:54:35.126913Z"
    }
   },
   "cell_type": "code",
   "source": [
    "efficiency_primary = intensity_primary / intensity_source\n",
    "efficiency_grating = intensity_grating / intensity_primary\n",
    "efficiency_filter = intensity_filter / intensity_grating\n",
    "efficiency_total = intensity_filter / intensity_source"
   ],
   "id": "467550a44c217455",
   "outputs": [],
   "execution_count": 9
  },
  {
   "metadata": {},
   "cell_type": "markdown",
   "source": "Plot the efficiencies as a function of wavelength.",
   "id": "3320bf7950533dd"
  },
  {
   "metadata": {
    "ExecuteTime": {
     "end_time": "2025-08-18T16:59:05.532829Z",
     "start_time": "2025-08-18T16:59:03.237829Z"
    }
   },
   "cell_type": "code",
   "source": [
    "with astropy.visualization.quantity_support():\n",
    "    fig, ax = plt.subplots(constrained_layout=True)\n",
    "    na.plt.plot(\n",
    "        instrument.wavelength_physical,\n",
    "        efficiency_primary,\n",
    "        ax=ax,\n",
    "        label=instrument.primary_mirror.surface.name,\n",
    "        color=\"tab:blue\",\n",
    "    )\n",
    "    na.plt.plot(\n",
    "        instrument.wavelength_physical,\n",
    "        efficiency_grating,\n",
    "        ax=ax,\n",
    "        label=instrument.grating.surface.name,\n",
    "        color=\"tab:orange\",\n",
    "    )\n",
    "    na.plt.plot(\n",
    "        instrument.wavelength_physical,\n",
    "        efficiency_filter,\n",
    "        ax=ax,\n",
    "        label=instrument.filter.surface.name,\n",
    "        color=\"tab:green\",\n",
    "    )\n",
    "    na.plt.plot(\n",
    "        instrument.wavelength_physical,\n",
    "        efficiency_total,\n",
    "        ax=ax,\n",
    "        label=\"total\",\n",
    "        color=\"tab:purple\",\n",
    "    )\n",
    "    ax.legend(loc=\"upper right\")"
   ],
   "id": "6296ad5a7c5c8cb0",
   "outputs": [
    {
     "data": {
      "text/plain": [
       "<Figure size 640x480 with 1 Axes>"
      ],
      "image/png": "[encoded data removed]"
     },
     "metadata": {},
     "output_type": "display_data"
    }
   ],
   "execution_count": 16
  },
  {
   "metadata": {},
   "cell_type": "markdown",
   "source": "Plot a schematic of the three multilayer stacks to compare",
   "id": "53a967528aa1fc96"
  },
  {
   "metadata": {
    "ExecuteTime": {
     "end_time": "2025-08-18T16:59:44.146418Z",
     "start_time": "2025-08-18T16:59:43.544915Z"
    }
   },
   "cell_type": "code",
   "source": [
    "with astropy.visualization.quantity_support():\n",
    "    fig, ax = plt.subplots(\n",
    "        ncols=3,\n",
    "        sharey=True,\n",
    "        figsize=(8,4),\n",
    "        constrained_layout=True,\n",
    "    )\n",
    "    instrument.primary_mirror.material.plot_layers(ax=ax[0])\n",
    "    instrument.grating.material.plot_layers(ax=ax[1])\n",
    "    instrument.filter.material.plot_layers(ax=ax[2])\n",
    "    ax[0].set_title(instrument.primary_mirror.surface.name)\n",
    "    ax[1].set_title(instrument.grating.surface.name)\n",
    "    ax[2].set_title(instrument.filter.surface.name)\n",
    "    ax[0].set_axis_off()\n",
    "    ax[1].set_axis_off()\n",
    "    ax[2].set_axis_off()\n",
    "    ax[2].autoscale()"
   ],
   "id": "fb6f8936267f333c",
   "outputs": [
    {
     "data": {
      "text/plain": [
       "<Figure size 800x400 with 3 Axes>"
      ],
      "image/png": "[encoded data removed]"
     },
     "metadata": {},
     "output_type": "display_data"
    }
   ],
   "execution_count": 19
  },
  {
   "metadata": {},
   "cell_type": "markdown",
   "source": "The total efficiency of the optics at the target wavelength is",
   "id": "6987e05643b8f09f"
  },
  {
   "metadata": {
    "ExecuteTime": {
     "end_time": "2025-08-18T17:00:38.292843Z",
     "start_time": "2025-08-18T17:00:38.287343Z"
    }
   },
   "cell_type": "code",
   "source": "efficiency_total.nominal.ndarray.max()",
   "id": "6c02387b28e1e3cb",
   "outputs": [
    {
     "data": {
      "text/plain": [
       "<Quantity 0.00401311>"
      ],
      "text/latex": "$0.004013106 \\; \\mathrm{}$"
     },
     "execution_count": 23,
     "metadata": {},
     "output_type": "execute_result"
    }
   ],
   "execution_count": 23
  },
  {
   "metadata": {},
   "cell_type": "code",
   "outputs": [],
   "execution_count": null,
   "source": "",
   "id": "54e8d2bb7bb333c8"
  }
 ],
 "metadata": {
  "kernelspec": {
   "display_name": "Python 3",
   "language": "python",
   "name": "python3"
  },
  "language_info": {
   "codemirror_mode": {
    "name": "ipython",
    "version": 2
   },
   "file_extension": ".py",
   "mimetype": "text/x-python",
   "name": "python",
   "nbconvert_exporter": "python",
   "pygments_lexer": "ipython2",
   "version": "2.7.6"
  }
 },
 "nbformat": 4,
 "nbformat_minor": 5
}
