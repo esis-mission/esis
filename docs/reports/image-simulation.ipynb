{
 "cells": [
  {
   "cell_type": "raw",
   "id": "e12c7d65",
   "metadata": {
    "raw_mimetype": "text/restructuredtext"
   },
   "source": [
    "Image Simulation\n",
    "================\n",
    "This notebook demonstrates how to generate synthetic ESIS images\n",
    "using data from the Interface Region Imaging Spectrograph (IRIS) :cite:p:`DePontieu2014`."
   ]
  },
  {
   "cell_type": "code",
   "execution_count": null,
   "id": "initial_id",
   "metadata": {
    "ExecuteTime": {
     "end_time": "2025-09-17T03:52:04.386760Z",
     "start_time": "2025-09-17T03:52:04.382757Z"
    }
   },
   "outputs": [],
   "source": [
    "import IPython.display\n",
    "import numpy as np\n",
    "import matplotlib.pyplot as plt\n",
    "import named_arrays as na\n",
    "import astropy.units as u\n",
    "import astropy.time\n",
    "import astropy.visualization\n",
    "import optika\n",
    "import iris\n",
    "import esis"
   ]
  },
  {
   "cell_type": "code",
   "execution_count": null,
   "id": "44398f271b4d84d4",
   "metadata": {
    "ExecuteTime": {
     "end_time": "2025-09-17T03:52:14.164123Z",
     "start_time": "2025-09-17T03:52:14.160120Z"
    }
   },
   "outputs": [],
   "source": [
    "astropy.visualization.quantity_support();"
   ]
  },
  {
   "cell_type": "raw",
   "id": "bff2e12d",
   "metadata": {
    "raw_mimetype": "text/restructuredtext"
   },
   "source": [
    "Download a sequence of 320-step dense rasters, despike, and crop to :math:`\\pm 100 \\text{km/s}`."
   ]
  },
  {
   "cell_type": "code",
   "execution_count": null,
   "id": "bb8f6532f39b7fab",
   "metadata": {
    "ExecuteTime": {
     "end_time": "2025-09-17T03:18:42.516227Z",
     "start_time": "2025-09-17T03:17:58.557728Z"
    }
   },
   "outputs": [],
   "source": [
    "obs = iris.sg.SpectrographObservation.from_time_range(\n",
    "    time_start=astropy.time.Time(\"2021-09-23T14:00\"),\n",
    "    time_stop=astropy.time.Time(\"2021-09-23T14:01\"),\n",
    ")\n",
    "\n",
    "obs = obs.explicit\n",
    "\n",
    "obs = na.despike(obs, axis=(obs.axis_wavelength, obs.axis_detector_y))\n",
    "\n",
    "where_vertices = np.abs(obs.velocity_doppler.mean(obs.axis_time)) < (100 * u.km / u.s)\n",
    "where_centers = np.abs(obs.velocity_doppler.cell_centers().mean(obs.axis_time)) < (100 * u.km / u.s)\n",
    "\n",
    "obs.inputs.wavelength = obs.inputs.wavelength[where_vertices]\n",
    "obs.outputs = obs.outputs[where_centers]\n",
    "\n",
    "obs.shape"
   ]
  },
  {
   "cell_type": "raw",
   "id": "5caef4d8",
   "metadata": {
    "raw_mimetype": "text/restructuredtext"
   },
   "source": [
    "Define the average width of the O V spectral line using :cite:t:`Stucki2002`."
   ]
  },
  {
   "cell_type": "code",
   "execution_count": null,
   "id": "479f2df9f1b7792d",
   "metadata": {
    "ExecuteTime": {
     "end_time": "2025-09-17T03:19:11.410844Z",
     "start_time": "2025-09-17T03:19:11.264847Z"
    }
   },
   "outputs": [],
   "source": [
    "wavelength_o_v = 629.73 * u.AA\n",
    "width_o_v = 150 * u.km / u.s\n",
    "width_si_iv = 40 * u.km / u.s\n",
    "velocity = (width_o_v / width_si_iv) * obs.velocity_doppler\n",
    "obs.inputs.wavelength = velocity.to(u.AA, equivalencies=u.doppler_radio(wavelength_o_v))\n",
    "obs.wavelength_center = wavelength_o_v"
   ]
  },
  {
   "cell_type": "code",
   "execution_count": null,
   "id": "df38e5e3ef211141",
   "metadata": {
    "ExecuteTime": {
     "end_time": "2025-09-17T03:19:35.626805Z",
     "start_time": "2025-09-17T03:19:35.622806Z"
    }
   },
   "outputs": [],
   "source": [
    "veranazza_radiance = 690.80 * u.erg / u.cm ** 2 / u.sr / u.s"
   ]
  },
  {
   "cell_type": "code",
   "execution_count": null,
   "id": "f058ad35e2975a7e",
   "metadata": {
    "ExecuteTime": {
     "end_time": "2025-09-17T03:19:37.002407Z",
     "start_time": "2025-09-17T03:19:36.949908Z"
    }
   },
   "outputs": [],
   "source": [
    "dw = np.diff(obs.inputs.wavelength, axis=obs.axis_wavelength)\n",
    "avg = np.nanmean((dw * obs.outputs).sum(obs.axis_wavelength)).ndarray\n",
    "avg"
   ]
  },
  {
   "cell_type": "code",
   "execution_count": null,
   "id": "3b67a2d3ee7f4409",
   "metadata": {
    "ExecuteTime": {
     "end_time": "2025-09-17T03:19:37.812508Z",
     "start_time": "2025-09-17T03:19:37.717508Z"
    }
   },
   "outputs": [],
   "source": [
    "obs = obs / avg * veranazza_radiance\n",
    "obs = obs.to(u.erg / u.cm ** 2 / u.sr / u.s / u.AA)"
   ]
  },
  {
   "cell_type": "code",
   "execution_count": null,
   "id": "599c8ec617f4a72f",
   "metadata": {
    "ExecuteTime": {
     "end_time": "2025-09-17T03:20:00.559559Z",
     "start_time": "2025-09-17T03:20:00.507558Z"
    }
   },
   "outputs": [],
   "source": [
    "np.nanmean((dw * obs.outputs).sum(obs.axis_wavelength)).ndarray"
   ]
  },
  {
   "cell_type": "code",
   "execution_count": null,
   "id": "34f80339966d78bf",
   "metadata": {
    "ExecuteTime": {
     "end_time": "2025-09-17T03:20:05.955654Z",
     "start_time": "2025-09-17T03:20:05.945657Z"
    }
   },
   "outputs": [],
   "source": [
    "obs.inputs.position.x -= obs.inputs.position.x.mean((obs.axis_detector_x, obs.axis_detector_y))\n",
    "obs.inputs.position.y -= obs.inputs.position.y.mean((obs.axis_detector_x, obs.axis_detector_y))"
   ]
  },
  {
   "cell_type": "code",
   "execution_count": null,
   "id": "bdd8bffc63e78ef7",
   "metadata": {
    "ExecuteTime": {
     "end_time": "2025-09-17T03:52:29.878380Z",
     "start_time": "2025-09-17T03:52:25.038381Z"
    }
   },
   "outputs": [],
   "source": [
    "\n",
    "# Display the raster sequence as a false-color animation\n",
    "obs.to_jshtml(\n",
    "    velocity_min=-300 * u.km / u.s,\n",
    "    velocity_max=+300 * u.km / u.s,\n",
    "    fps=2,\n",
    ")\n"
   ]
  },
  {
   "cell_type": "code",
   "execution_count": null,
   "id": "de8dd18e5407a9bb",
   "metadata": {
    "ExecuteTime": {
     "end_time": "2025-09-17T19:18:29.488051Z",
     "start_time": "2025-09-17T19:18:29.469049Z"
    }
   },
   "outputs": [],
   "source": [
    "instrument = esis.flights.f1.optics.design_single(num_distribution=0)\n",
    "instrument.primary_mirror.translation = na.nominal(instrument.primary_mirror.translation)\n",
    "instrument.field_stop.translation = na.nominal(instrument.field_stop.translation)\n",
    "instrument.grating.sag.radius = na.nominal(instrument.grating.sag.radius)\n",
    "instrument.grating.rulings.spacing.coefficients[0] = na.nominal(instrument.grating.rulings.spacing.coefficients[0])\n",
    "instrument.grating.rulings.spacing.coefficients[1] = na.nominal(instrument.grating.rulings.spacing.coefficients[1])\n",
    "instrument.grating.rulings.spacing.coefficients[2] = na.nominal(instrument.grating.rulings.spacing.coefficients[2])\n",
    "instrument.grating.rulings.depth = na.nominal(instrument.grating.rulings.depth)\n",
    "instrument.grating.rulings.ratio_duty = na.nominal(instrument.grating.rulings.ratio_duty)\n",
    "instrument.grating.translation = na.nominal(instrument.grating.translation)\n",
    "instrument.grating.roll = na.nominal(instrument.grating.roll)\n",
    "instrument\n",
    "# instrument.primary_mirror.material = optika.materials.Mirror()\n",
    "# instrument.grating.material = optika.materials.Mirror()\n",
    "# instrument.filter.material = None"
   ]
  },
  {
   "cell_type": "code",
   "execution_count": null,
   "id": "dc7ce73bda926291",
   "metadata": {
    "ExecuteTime": {
     "end_time": "2025-09-17T19:18:35.532701Z",
     "start_time": "2025-09-17T19:18:35.456204Z"
    }
   },
   "outputs": [],
   "source": [
    "system = instrument.system\n",
    "# system.sensor.material = optika.sensors.IdealImagingSensorMaterial()"
   ]
  },
  {
   "cell_type": "code",
   "execution_count": null,
   "id": "de8e0d4bac16f9b5",
   "metadata": {
    "ExecuteTime": {
     "start_time": "2025-09-17T19:18:38.011344Z"
    },
    "jupyter": {
     "is_executing": true
    },
    "scrolled": false
   },
   "outputs": [],
   "source": [
    "image = system.image(\n",
    "    obs,\n",
    "    pupil = na.Cartesian2dVectorLinearSpace(\n",
    "        start=-1,\n",
    "        stop=1,\n",
    "        axis=na.Cartesian2dVectorArray(\"pupil_x\", \"pupil_y\"),\n",
    "        num=2,\n",
    "        centers=True,\n",
    "    ),\n",
    "    axis_wavelength=obs.axis_wavelength,\n",
    "    axis_field=(obs.axis_detector_x, obs.axis_detector_y),\n",
    ")"
   ]
  },
  {
   "cell_type": "code",
   "execution_count": null,
   "id": "809400cf26ada852",
   "metadata": {
    "ExecuteTime": {
     "end_time": "2025-09-17T05:25:11.999079Z",
     "start_time": "2025-09-17T05:18:09.466590Z"
    }
   },
   "outputs": [],
   "source": [
    "r = obs.copy()\n",
    "factor = 10000\n",
    "r.outputs = factor * np.nan_to_num(r.outputs)\n",
    "r.inputs.wavelength = (r.velocity_doppler/factor).to(u.AA, equivalencies=u.doppler_radio(wavelength_o_v))\n",
    "\n",
    "image_undispersed = system.image(\n",
    "    r,\n",
    "    pupil = na.Cartesian2dVectorLinearSpace(\n",
    "        start=-1,\n",
    "        stop=1,\n",
    "        axis=na.Cartesian2dVectorArray(\"pupil_x\", \"pupil_y\"),\n",
    "        num=2,\n",
    "        centers=True,\n",
    "    ),\n",
    "    axis_wavelength=obs.axis_wavelength,\n",
    "    axis_field=(obs.axis_detector_x, obs.axis_detector_y),\n",
    ")"
   ]
  },
  {
   "cell_type": "code",
   "execution_count": null,
   "id": "8a476333df109263",
   "metadata": {
    "ExecuteTime": {
     "end_time": "2025-09-17T14:00:16.810146Z",
     "start_time": "2025-09-17T14:00:16.106148Z"
    }
   },
   "outputs": [],
   "source": [
    "stacked = na.stack(\n",
    "    arrays=[\n",
    "        image,\n",
    "        image_undispersed,\n",
    "    ],\n",
    "    axis=\"dispersion\",\n",
    ")"
   ]
  },
  {
   "metadata": {},
   "cell_type": "code",
   "outputs": [],
   "execution_count": null,
   "source": [
    "fig, ax = na.plt.subplots(\n",
    "    axis_cols=\"dispersion\",\n",
    "    ncols=3,\n",
    "    # sharex=True,\n",
    "    # sharey=True,\n",
    "    figsize=(9, 4.6),\n",
    "    constrained_layout=True,\n",
    "    dpi=200,\n",
    "    gridspec_kw=dict(width_ratios=[.9, .9, .1]),\n",
    ")\n",
    "cax = ax.ndarray[~0]\n",
    "cax_twin = cax.twinx()\n",
    "ax = ax[dict(dispersion=slice(0, 2))]\n",
    "cax.xaxis.set_ticks_position(\"top\")\n",
    "cax.xaxis.set_label_position(\"top\")\n",
    "ani, colorbar = na.plt.rgbmovie(\n",
    "    obs.inputs.time,\n",
    "    image.inputs.wavelength,\n",
    "    image.inputs.position.x.to(u.mm),\n",
    "    image.inputs.position.y.to(u.mm),\n",
    "    C=na.nominal(stacked.outputs),\n",
    "    axis_time=obs.axis_time,\n",
    "    axis_wavelength=obs.axis_wavelength,\n",
    "    ax=ax,\n",
    "    vmin=0,\n",
    "    vmax=np.nanpercentile(image.outputs, 99.99, axis=(obs.axis_time, \"detector_x\", \"detector_y\")),\n",
    ")\n",
    "colorbar = colorbar[{obs.axis_time: 0}]\n",
    "na.plt.pcolormesh(\n",
    "    colorbar.inputs.x,\n",
    "    colorbar.inputs.y.to(u.AA, equivalencies=u.doppler_radio(wavelength_o_v)),\n",
    "    C=colorbar.outputs.value,\n",
    "    axis_rgb=obs.axis_wavelength,\n",
    "    ax=cax,\n",
    ")\n",
    "na.plt.set_xlim(5.5, 9, ax=ax)\n",
    "na.plt.set_ylim(-2, 2, ax=ax)\n",
    "na.plt.set_aspect(\"equal\", ax=ax)\n",
    "na.plt.set_xlabel(\"detector $x$ (mm)\", ax=ax)\n",
    "na.plt.set_ylabel(\"detector $y$ (mm)\", ax=ax.ndarray[0])\n",
    "na.plt.set_ylabel(\"\", ax=ax.ndarray[~0])\n",
    "ax.ndarray[~0].tick_params(axis=\"y\", labelleft=False)\n",
    "\n",
    "result = ani.to_jshtml(fps=2)\n",
    "result = IPython.display.HTML(result)\n",
    "\n",
    "plt.close(ani._fig)\n",
    "\n",
    "result"
   ],
   "id": "dcce6b3ffc3ccb97"
  },
  {
   "metadata": {},
   "cell_type": "code",
   "outputs": [],
   "execution_count": null,
   "source": [
    "t0 = {obs.axis_time: 0}\n",
    "s = stacked[t0]\n",
    "\n",
    "fig, ax = plt.subplots(\n",
    "    ncols=2,\n",
    "    constrained_layout=True,\n",
    "    dpi=200,\n",
    "    gridspec_kw=dict(width_ratios=[.9, .1]),\n",
    "    figsize=(7, 5),\n",
    ")\n",
    "ax_twin = ax[1].twinx()\n",
    "ax[1].xaxis.set_ticks_position(\"top\")\n",
    "ax[1].xaxis.set_label_position(\"top\")\n",
    "ani, colorbar = na.plt.rgbmovie(\n",
    "    obs.inputs.time[t0],\n",
    "    image.inputs.wavelength[t0],\n",
    "    s.inputs.position.x.to(u.mm),\n",
    "    s.inputs.position.y.to(u.mm),\n",
    "    C=na.nominal(s.outputs),\n",
    "    axis_time=\"dispersion\",\n",
    "    axis_wavelength=obs.axis_wavelength,\n",
    "    ax=ax[0],\n",
    "    vmin=0,\n",
    "    vmax=np.nanpercentile(image.outputs, 99.99, axis=(obs.axis_time, \"detector_x\", \"detector_y\")),\n",
    ")\n",
    "# colorbar = colorbar[{obs.axis_time: 0}]\n",
    "na.plt.pcolormesh(\n",
    "    colorbar.inputs.x,\n",
    "    colorbar.inputs.y,\n",
    "    C=colorbar.outputs.value,\n",
    "    axis_rgb=obs.axis_wavelength,\n",
    "    ax=ax[1],\n",
    ")\n",
    "na.plt.pcolormesh(\n",
    "    colorbar.inputs.x,\n",
    "    colorbar.inputs.y.to(u.km / u.s, equivalencies=u.doppler_radio(wavelength_o_v)),\n",
    "    C=colorbar.outputs.value,\n",
    "    axis_rgb=obs.axis_wavelength,\n",
    "    ax=ax_twin,\n",
    ")\n",
    "na.plt.set_xlim(5.5, 9, ax=ax[0])\n",
    "na.plt.set_ylim(-2, 2, ax=ax[0])\n",
    "na.plt.set_aspect(\"equal\", ax=ax[0])\n",
    "na.plt.set_xlabel(f\"detector $x$ (mm)\", ax=ax[0])\n",
    "na.plt.set_ylabel(\"detector $y$ (mm)\", ax=ax[0])\n",
    "\n",
    "result = ani.to_jshtml(fps=.5)\n",
    "result = IPython.display.HTML(result)\n",
    "\n",
    "plt.close(ani._fig)\n",
    "\n",
    "result"
   ],
   "id": "a4a7ae7c9bb46c1d"
  }
 ],
 "metadata": {
  "celltoolbar": "Raw Cell Format",
  "kernelspec": {
   "display_name": "Python 3 (ipykernel)",
   "language": "python",
   "name": "python3"
  },
  "language_info": {
   "codemirror_mode": {
    "name": "ipython",
    "version": 3
   },
   "file_extension": ".py",
   "mimetype": "text/x-python",
   "name": "python",
   "nbconvert_exporter": "python",
   "pygments_lexer": "ipython3",
   "version": "3.11.1"
  }
 },
 "nbformat": 4,
 "nbformat_minor": 5
}
