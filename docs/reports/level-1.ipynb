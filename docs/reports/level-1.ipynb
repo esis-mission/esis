{
 "cells": [
  {
   "cell_type": "raw",
   "id": "bba652ce",
   "metadata": {
    "raw_mimetype": "text/restructuredtext"
   },
   "source": [
    "Level-1 Dataset\n",
    "===============\n",
    "The ESIS Level-1 data product includes applying the following steps to the Level-0 data:\n",
    "\n",
    "* Bias subtraction\n",
    "* Dark frame subtraction\n",
    "* Non-active (NAP) pixel removal\n",
    "* Conversion to electrons\n",
    "* Cosmic ray removal\n",
    "\n",
    "These steps consist of all the effects that need to be accounted for before we transform\n",
    "into skyplane coordinates.\n",
    "All of these steps are packaged into the :func:`esis.flights.f1.data.level_1` function,\n",
    "but this notebook starts from the Level-0 dataset and examines each indivdual step."
   ]
  },
  {
   "cell_type": "code",
   "execution_count": null,
   "id": "1a3f55042d9d88ba",
   "metadata": {
    "ExecuteTime": {
     "end_time": "2025-08-26T04:35:24.589728Z",
     "start_time": "2025-08-26T04:35:24.014730Z"
    }
   },
   "outputs": [],
   "source": [
    "%reload_ext autoreload\n",
    "%autoreload 2\n",
    "# %matplotlib notebook+"
   ]
  },
  {
   "cell_type": "code",
   "execution_count": null,
   "id": "initial_id",
   "metadata": {
    "ExecuteTime": {
     "end_time": "2025-08-26T04:35:26.921728Z",
     "start_time": "2025-08-26T04:35:24.591728Z"
    }
   },
   "outputs": [],
   "source": [
    "import IPython.display\n",
    "import numpy as np\n",
    "import matplotlib.pyplot as plt\n",
    "import astropy.units as u\n",
    "import astropy.visualization\n",
    "import named_arrays as na\n",
    "import esis"
   ]
  },
  {
   "cell_type": "code",
   "execution_count": null,
   "id": "abb9b243",
   "metadata": {},
   "outputs": [],
   "source": [
    "astropy.visualization.quantity_support();"
   ]
  },
  {
   "cell_type": "raw",
   "id": "9bee6912",
   "metadata": {
    "raw_mimetype": "text/restructuredtext"
   },
   "source": [
    "Bias Subtraction\n",
    "---------------------------\n",
    "The bias (or pedestal) is an offset charge used to keep all the outputs positive.\n",
    "The ESIS senors have 50 blank columns and 2 overscan columns on each tap which are not sensitive to\n",
    "light and can be used to estimate the bias.\n",
    "In :doc:`msfc_ccd:reports/bias`,\n",
    "we found that using only the overscan columns resulted in the\n",
    "best bias subtraction.\n",
    "To check this result, we'll start by loading the Level-0 dataset."
   ]
  },
  {
   "cell_type": "code",
   "execution_count": null,
   "id": "6fbbfad753261a23",
   "metadata": {
    "ExecuteTime": {
     "end_time": "2025-08-26T04:35:40.099726Z",
     "start_time": "2025-08-26T04:35:27.008727Z"
    }
   },
   "outputs": [],
   "source": [
    "level_0 = esis.flights.f1.data.level_0()"
   ]
  },
  {
   "cell_type": "raw",
   "id": "86bf6b1a",
   "metadata": {
    "raw_mimetype": "text/restructuredtext"
   },
   "source": [
    "Create a copy of the time array in :class:`datetime.datetime` format for easier plotting with :mod:`matplotlib`."
   ]
  },
  {
   "cell_type": "code",
   "execution_count": null,
   "id": "e81738a6",
   "metadata": {},
   "outputs": [],
   "source": [
    "time = level_0.inputs.time\n",
    "time = time.replace(ndarray=time.ndarray.datetime)"
   ]
  },
  {
   "cell_type": "raw",
   "id": "019233c7",
   "metadata": {
    "raw_mimetype": "text/restructuredtext"
   },
   "source": [
    "Estimate and remove the bias from all the images.\n",
    "We'll place the results into a variable called `level_1` which we'll apply further operations to construct the final Level-1 dataset."
   ]
  },
  {
   "cell_type": "code",
   "execution_count": null,
   "id": "e812ad6041b69720",
   "metadata": {
    "ExecuteTime": {
     "end_time": "2025-08-26T04:35:56.325228Z",
     "start_time": "2025-08-26T04:35:40.102229Z"
    }
   },
   "outputs": [],
   "source": [
    "level_1 = level_0.unbiased"
   ]
  },
  {
   "cell_type": "raw",
   "id": "2523ba1b",
   "metadata": {
    "raw_mimetype": "text/restructuredtext"
   },
   "source": [
    "Plot the average bias-subtracted signal as a function of time\n",
    "and the intervals containing the light and dark frames."
   ]
  },
  {
   "cell_type": "code",
   "execution_count": null,
   "id": "e4cb1e6595e0757c",
   "metadata": {
    "ExecuteTime": {
     "end_time": "2025-08-26T04:35:57.761727Z",
     "start_time": "2025-08-26T04:35:56.762229Z"
    }
   },
   "outputs": [],
   "source": [
    "fig, ax = plt.subplots(\n",
    "    figsize=(6, 2.5),\n",
    "    constrained_layout=True,\n",
    ")\n",
    "na.plt.plot(\n",
    "    time,\n",
    "    level_1.outputs.mean((level_1.axis_x, level_1.axis_y)),\n",
    "    axis=level_1.axis_time,\n",
    "    label=level_1.channel,\n",
    "    drawstyle='steps-mid',\n",
    ")\n",
    "ax.axvspan(\n",
    "    xmin=level_1.lights.inputs.time_start.ndarray.min().datetime,\n",
    "    xmax=level_1.lights.inputs.time_end.ndarray.max().datetime,\n",
    "    alpha=0.3,\n",
    "    label=\"lights\",\n",
    ")\n",
    "ax.axvspan(\n",
    "    xmin=level_1.darks_up.inputs.time_start.ndarray.min().datetime,\n",
    "    xmax=level_1.darks_up.inputs.time_end.ndarray.max().datetime,\n",
    "    alpha=0.3,\n",
    "    label=\"darks\",\n",
    "    color=\"gray\",\n",
    ")\n",
    "ax.axvspan(\n",
    "    xmin=level_1.darks_down.inputs.time_start.ndarray.min().datetime,\n",
    "    xmax=level_1.darks_down.inputs.time_end.ndarray.max().datetime,\n",
    "    alpha=0.3,\n",
    "    color=\"gray\",\n",
    ")\n",
    "ax.set_xlabel(\"time (UTC)\")\n",
    "ax.set_ylabel(\"mean intensity (DN)\")\n",
    "ax.legend();"
   ]
  },
  {
   "cell_type": "raw",
   "id": "8f64c1a7",
   "metadata": {
    "raw_mimetype": "text/restructuredtext"
   },
   "source": [
    "Create an animation of all the dark frames."
   ]
  },
  {
   "cell_type": "code",
   "execution_count": null,
   "id": "e6f0ddfc",
   "metadata": {},
   "outputs": [],
   "source": [
    "level_1.darks.to_jshtml()"
   ]
  },
  {
   "cell_type": "raw",
   "id": "fb313843",
   "metadata": {
    "raw_mimetype": "text/restructuredtext"
   },
   "source": [
    "Select only the dark frames and split into separate images for each tap."
   ]
  },
  {
   "cell_type": "code",
   "execution_count": null,
   "id": "d0095d0c",
   "metadata": {},
   "outputs": [],
   "source": [
    "taps = level_1.darks.taps"
   ]
  },
  {
   "cell_type": "raw",
   "id": "fa9ea9ee",
   "metadata": {
    "raw_mimetype": "text/restructuredtext"
   },
   "source": [
    "Plot the time/row-averaged signal as a function of column for every tap of every dark frame."
   ]
  },
  {
   "cell_type": "code",
   "execution_count": null,
   "id": "f8ffac76",
   "metadata": {},
   "outputs": [],
   "source": [
    "axes_tap_xy = (taps.axis_tap_x, taps.axis_tap_y)\n",
    "axis_tap_xy = \"tap_xy\"\n",
    "taps_flat = taps.combine_axes(\n",
    "    axes=axes_tap_xy,\n",
    "    axis_new=axis_tap_xy\n",
    ")\n",
    "\n",
    "fig, ax = na.plt.subplots(\n",
    "    axis_rows=level_0.axis_channel,\n",
    "    axis_cols=axis_tap_xy,\n",
    "    nrows=taps_flat.shape[level_0.axis_channel],\n",
    "    ncols=taps_flat.shape[axis_tap_xy],\n",
    "    sharex=True,\n",
    "    sharey=True,\n",
    "    constrained_layout=True,\n",
    "    origin=\"upper\",\n",
    ")\n",
    "na.plt.plot(\n",
    "    taps_flat.outputs.mean_trimmed(.01, (level_0.axis_time, level_0.axis_y)),\n",
    "    axis=level_0.axis_x,\n",
    "    ax=ax,\n",
    ")\n",
    "na.plt.set_ylim(\n",
    "    bottom=-1,\n",
    "    top=1,\n",
    "    ax=ax,\n",
    ")\n",
    "na.plt.axvspan(\n",
    "    xmin=0,\n",
    "    xmax=taps.camera.sensor.num_blank,\n",
    "    color=\"green\",\n",
    "    alpha=0.2,\n",
    "    ax=ax,\n",
    "    label=\"blank\",\n",
    ")\n",
    "na.plt.axvspan(\n",
    "    xmin=taps.num_x - taps.camera.sensor.num_overscan,\n",
    "    xmax=taps.num_x,\n",
    "    color=\"red\",\n",
    "    alpha=0.2,\n",
    "    ax=ax,\n",
    "    label=\"overscan\",\n",
    ")\n",
    "na.plt.set_xlabel(\"columns\", ax=ax[{level_0.axis_channel: ~0}])\n",
    "na.plt.text(\n",
    "    x=0.5,\n",
    "    y=1.02,\n",
    "    s=taps.label[{level_0.axis_channel: 0}].combine_axes(axes_tap_xy, axis_tap_xy),\n",
    "    ax=ax[{level_0.axis_channel: 0}],\n",
    "    transform=na.plt.transAxes(ax[{level_0.axis_channel: 0}]),\n",
    "    ha=\"center\",\n",
    "    va=\"bottom\",\n",
    ")\n",
    "na.plt.text(\n",
    "    x=1.02,\n",
    "    y=0.5,\n",
    "    s=level_0.channel,\n",
    "    ax=ax[{axis_tap_xy: ~0}],\n",
    "    transform=na.plt.transAxes(ax[{axis_tap_xy: ~0}]),\n",
    "    ha=\"left\",\n",
    "    va=\"center\",\n",
    ");\n",
    "# ax.ndarray.flat[~0].legend();"
   ]
  },
  {
   "cell_type": "raw",
   "id": "86ca3ab5",
   "metadata": {
    "raw_mimetype": "text/restructuredtext"
   },
   "source": [
    "Cropping Non-Active Pixels\n",
    "--------------------------\n",
    "The blank and overscan columns are useful for estimating the bias,\n",
    "but they are not sensitive to light and need to be removed to\n",
    "make a continuous image.\n",
    "We can remove these pixels easily using the :attr:`~esis.data.Level_0.active`\n",
    "property."
   ]
  },
  {
   "cell_type": "code",
   "execution_count": null,
   "id": "8ccda818",
   "metadata": {},
   "outputs": [],
   "source": [
    "level_1.shape"
   ]
  },
  {
   "cell_type": "code",
   "execution_count": null,
   "id": "2d9e80d3",
   "metadata": {},
   "outputs": [],
   "source": [
    "level_1 = level_1.active\n",
    "level_1.shape"
   ]
  },
  {
   "cell_type": "raw",
   "id": "58ba7500",
   "metadata": {
    "raw_mimetype": "text/restructuredtext"
   },
   "source": [
    "From the printed shapes, notice how the ``detector_x`` axis is smaller by 104 pixels."
   ]
  },
  {
   "cell_type": "raw",
   "id": "779c7972",
   "metadata": {
    "raw_mimetype": "text/restructuredtext"
   },
   "source": [
    "Dark Subtraction\n",
    "----------------\n",
    "To calculate the master dark frame,\n",
    "we'll use the :attr:`~esis.data.Level_0.dark`\n",
    "property which despikes the dark frame sequence,\n",
    "and then take the mean along the time axis."
   ]
  },
  {
   "cell_type": "code",
   "execution_count": null,
   "id": "75d0ce65",
   "metadata": {},
   "outputs": [],
   "source": [
    "dark = level_1.dark"
   ]
  },
  {
   "cell_type": "raw",
   "id": "7c525964",
   "metadata": {
    "raw_mimetype": "text/restructuredtext"
   },
   "source": [
    "Plot the dark frame for each channel to inspect"
   ]
  },
  {
   "cell_type": "code",
   "execution_count": null,
   "id": "ec0df73f",
   "metadata": {
    "scrolled": false
   },
   "outputs": [],
   "source": [
    "fig, ax = na.plt.subplots(\n",
    "    axis_rows=dark.axis_channel,\n",
    "    nrows=dark.shape[dark.axis_channel],\n",
    "    sharex=True,\n",
    "    sharey=True,\n",
    "    constrained_layout=True,\n",
    "    figsize=(5, 8),\n",
    "    origin=\"upper\",\n",
    ")\n",
    "na.plt.set_xlabel(\"detector $x$ (pix)\", ax=ax[{dark.axis_channel: ~0}])\n",
    "na.plt.set_ylabel(\"detector $y$ (pix)\", ax=ax)\n",
    "\n",
    "norm = plt.Normalize(-2, 2)\n",
    "\n",
    "colorizer = plt.Colorizer(norm=norm)\n",
    "\n",
    "i = {dark.axis_time: 0}\n",
    "\n",
    "ani = na.plt.pcolormesh(\n",
    "    dark[i].inputs.pixel.x,\n",
    "    dark[i].inputs.pixel.y,\n",
    "    C=dark[i].outputs,\n",
    "    ax=ax,\n",
    "    colorizer=colorizer,\n",
    ")\n",
    "na.plt.text(\n",
    "    x=0.5,\n",
    "    y=1.01,\n",
    "    s=dark[i].channel,\n",
    "    transform=na.plt.transAxes(ax),\n",
    "    ax=ax,\n",
    "    ha=\"center\",\n",
    "    va=\"bottom\",\n",
    ")\n",
    "na.plt.set_aspect(\"equal\", ax=ax)\n",
    "\n",
    "plt.colorbar(\n",
    "    mappable=plt.cm.ScalarMappable(colorizer=colorizer),\n",
    "    ax=ax.ndarray,\n",
    "    label=f\"signal ({dark.outputs.unit:latex_inline})\",\n",
    ");"
   ]
  },
  {
   "cell_type": "raw",
   "id": "40e3221f",
   "metadata": {
    "raw_mimetype": "text/restructuredtext"
   },
   "source": [
    "Despiking\n",
    "---------"
   ]
  },
  {
   "cell_type": "code",
   "execution_count": null,
   "id": "6bbf84ac",
   "metadata": {},
   "outputs": [],
   "source": []
  }
 ],
 "metadata": {
  "celltoolbar": "Raw Cell Format",
  "kernelspec": {
   "display_name": "Python 3 (ipykernel)",
   "language": "python",
   "name": "python3"
  },
  "language_info": {
   "codemirror_mode": {
    "name": "ipython",
    "version": 3
   },
   "file_extension": ".py",
   "mimetype": "text/x-python",
   "name": "python",
   "nbconvert_exporter": "python",
   "pygments_lexer": "ipython3",
   "version": "3.11.1"
  }
 },
 "nbformat": 4,
 "nbformat_minor": 5
}
