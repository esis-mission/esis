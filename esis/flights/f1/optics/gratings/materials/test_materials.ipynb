{
 "cells": [
  {
   "cell_type": "code",
   "outputs": [],
   "source": [
    "%reload_ext autoreload\n",
    "%autoreload 2\n",
    "%matplotlib notebook\n",
    "%reload_ext line_profiler"
   ],
   "metadata": {
    "collapsed": false,
    "ExecuteTime": {
     "end_time": "2024-03-13T19:54:46.686692Z",
     "start_time": "2024-03-13T19:54:46.166692Z"
    }
   },
   "id": "511b0b09f973ed4a",
   "execution_count": 1
  },
  {
   "cell_type": "code",
   "execution_count": 2,
   "id": "8995473cadc7874c",
   "metadata": {
    "collapsed": false,
    "ExecuteTime": {
     "end_time": "2024-03-13T19:54:49.677087Z",
     "start_time": "2024-03-13T19:54:47.325588Z"
    }
   },
   "outputs": [],
   "source": [
    "import numpy as np\n",
    "import matplotlib.pyplot as plt\n",
    "import named_arrays as na\n",
    "import named_arrays._vectors.vector_array_functions\n",
    "import named_arrays._scalars.scalar_array_functions\n",
    "import named_arrays._core_array_functions\n",
    "import optika\n",
    "import esis"
   ]
  },
  {
   "cell_type": "code",
   "outputs": [],
   "source": [
    "\n",
    "# Load the measured reflectivity of the witness sample\n",
    "reflectivity_measured = esis.flights.f1.optics.primaries.materials.reflectivity_witness()"
   ],
   "metadata": {
    "collapsed": false
   },
   "id": "2e02d1eaee0e6e2",
   "execution_count": null
  },
  {
   "cell_type": "code",
   "outputs": [
    {
     "name": "stdout",
     "output_type": "stream",
     "text": [
      "       message: Optimization terminated successfully.\n",
      "       success: True\n",
      "        status: 0\n",
      "           fun: 0.015342699917992492\n",
      "             x: [ 2.139e+01  3.420e+00  6.978e-05  1.392e-05]\n",
      "           nit: 330\n",
      "          nfev: 550\n",
      " final_simplex: (array([[ 2.139e+01,  3.420e+00,  6.978e-05,  1.392e-05],\n",
      "                       [ 2.139e+01,  3.420e+00,  1.545e-04,  0.000e+00],\n",
      "                       ...,\n",
      "                       [ 2.139e+01,  3.420e+00,  1.528e-04,  0.000e+00],\n",
      "                       [ 2.139e+01,  3.420e+00,  0.000e+00,  7.460e-05]]), array([ 1.534e-02,  1.534e-02,  1.534e-02,  1.534e-02,\n",
      "                        1.534e-02]))\n"
     ]
    }
   ],
   "source": [
    "\n",
    "# Fit a multilayer stack to the measured reflectivity\n",
    "# %lprun -f na.AbstractVectorArray.__array_matmul__ multilayer = esis.flights.f1.optics.primaries.materials.multilayer_witness()\n",
    "# %lprun -f optika.materials.matrices.refraction multilayer = esis.flights.f1.optics.primaries.materials.multilayer_witness()\n",
    "multilayer = esis.flights.f1.optics.primaries.materials.multilayer_witness()\n",
    "\n"
   ],
   "metadata": {
    "collapsed": false,
    "ExecuteTime": {
     "end_time": "2024-03-13T19:55:47.196507Z",
     "start_time": "2024-03-13T19:55:40.852506Z"
    }
   },
   "id": "52f30d1ccc30ae91",
   "execution_count": 5
  },
  {
   "cell_type": "code",
   "outputs": [],
   "source": [
    "# Define the rays incident on the multilayer stack that will be used to\n",
    "# compute the reflectivity\n",
    "rays = optika.rays.RayVectorArray(\n",
    "    wavelength=reflectivity_measured.inputs.wavelength,\n",
    "    direction=na.Cartesian3dVectorArray(\n",
    "        x=np.sin(reflectivity_measured.inputs.direction),\n",
    "        y=0,\n",
    "        z=np.cos(reflectivity_measured.inputs.direction),\n",
    "    ),\n",
    ")\n",
    "\n",
    "# Compute the reflectivity of the fitted multilayer stack\n",
    "reflectivity_fit = multilayer.efficiency(\n",
    "    rays=rays,\n",
    "    normal=na.Cartesian3dVectorArray(0, 0, -1),\n",
    ")\n",
    "\n",
    "# Plot the fitted vs. measured reflectivity\n",
    "fig, ax = plt.subplots(constrained_layout=True)\n",
    "na.plt.scatter(\n",
    "    reflectivity_measured.inputs.wavelength,\n",
    "    reflectivity_measured.outputs,\n",
    "    ax=ax,\n",
    "    label=\"measured\"\n",
    ");\n",
    "na.plt.plot(\n",
    "    rays.wavelength,\n",
    "    reflectivity_fit,\n",
    "    ax=ax,\n",
    "    label=\"fitted\",\n",
    "    color=\"tab:orange\",\n",
    ");\n",
    "ax.set_xlabel(f\"wavelength ({rays.wavelength.unit:latex_inline})\")\n",
    "ax.set_ylabel(\"reflectivity\")\n",
    "ax.legend();\n",
    "\n",
    "# Print the fitted multilayer stack\n",
    "multilayer"
   ],
   "metadata": {
    "collapsed": true
   },
   "id": "initial_id",
   "execution_count": null
  },
  {
   "cell_type": "code",
   "outputs": [],
   "source": [
    "x = na.linspace(0, 1, axis=\"x\", num=100001)\n",
    "y = na.linspace(0, 1, axis=\"x\", num=100001)\n",
    "z = na.linspace(0, 1, axis=\"x\", num=100001)\n",
    "a = na.Cartesian3dVectorArray(x, y, z)\n",
    "b = na.Cartesian3dVectorArray(x, x, x)"
   ],
   "metadata": {
    "collapsed": false,
    "ExecuteTime": {
     "end_time": "2024-03-12T18:01:04.445942Z",
     "start_time": "2024-03-12T18:01:04.370941Z"
    }
   },
   "id": "a3224ce013d833c9",
   "execution_count": 3
  },
  {
   "cell_type": "code",
   "outputs": [],
   "source": [
    "def test():\n",
    "    c = x + y * z\n",
    "    # c = a @ b\n",
    "    # d = a.x * b.x + a.y * b.y + a.z * b.z\n",
    "    return c\n",
    "\n",
    "# %lprun -f test test()\n",
    "# %lprun -f na.AbstractCartesianVectorArray.__array_ufunc__ test()\n",
    "# %lprun -f na.AbstractVectorArray.__array_ufunc__ test()\n",
    "# %lprun -f na.AbstractScalarArray.__array_ufunc__ test()\n",
    "%lprun -f na.ScalarArray.__post_init__ test()\n",
    "# %lprun -f na.AbstractScalarArray.ndarray_aligned test()\n",
    "# %lprun -f na.ScalarArray.shape.fget test()\n",
    "# %lprun -f na.shape_broadcasted test()\n",
    "# %lprun -f na.broadcast_shapes test()\n",
    "# %lprun -f np.shape.__wrapped__ test()"
   ],
   "metadata": {
    "collapsed": false,
    "ExecuteTime": {
     "end_time": "2024-03-13T01:58:40.410788Z",
     "start_time": "2024-03-13T01:58:40.336788Z"
    }
   },
   "id": "456af22ad76d89f6",
   "execution_count": 203
  },
  {
   "cell_type": "code",
   "outputs": [
    {
     "ename": "SyntaxError",
     "evalue": "unterminated string literal (detected at line 1) (3271358387.py, line 1)",
     "output_type": "error",
     "traceback": [
      "\u001B[1;36m  Cell \u001B[1;32mIn[151], line 1\u001B[1;36m\u001B[0m\n\u001B[1;33m    \"a @ b\u001B[0m\n\u001B[1;37m    ^\u001B[0m\n\u001B[1;31mSyntaxError\u001B[0m\u001B[1;31m:\u001B[0m unterminated string literal (detected at line 1)\n"
     ]
    }
   ],
   "source": [
    "|\"a @ b"
   ],
   "metadata": {
    "collapsed": false,
    "ExecuteTime": {
     "end_time": "2024-03-13T00:26:58.915775Z",
     "start_time": "2024-03-13T00:26:58.843776Z"
    }
   },
   "id": "38a4bd815e608d5c",
   "execution_count": 151
  },
  {
   "cell_type": "code",
   "outputs": [],
   "source": [
    "%lprun -f na.AbstractVectorArray.cartesian_nd.fget a.cartesian_nd"
   ],
   "metadata": {
    "collapsed": false,
    "ExecuteTime": {
     "start_time": "2024-03-11T23:03:14.945751Z"
    }
   },
   "id": "1c93d9ebc76feb34",
   "execution_count": null
  },
  {
   "cell_type": "code",
   "outputs": [
    {
     "ename": "TypingError",
     "evalue": "Failed in nopython mode pipeline (step: nopython frontend)\n\u001B[1m\u001B[1mnon-precise type pyobject\u001B[0m\n\u001B[0m\u001B[1mDuring: typing of argument at C:\\Users\\byrdie\\Kankelborg-Group\\named_arrays\\named_arrays\\_core.py (166)\u001B[0m\n\u001B[1m\nFile \"..\\..\\..\\..\\..\\..\\..\\named_arrays\\named_arrays\\_core.py\", line 166:\u001B[0m\n\u001B[1mdef type_array(\n    <source elided>\n\n\u001B[1m@numba.njit\n\u001B[0m\u001B[1m^\u001B[0m\u001B[0m \n\nThis error may have been caused by the following argument(s):\n- argument 0: \u001B[1mCannot determine Numba type of <class 'tuple'>\u001B[0m\n",
     "output_type": "error",
     "traceback": [
      "\u001B[1;31m---------------------------------------------------------------------------\u001B[0m",
      "\u001B[1;31mTypingError\u001B[0m                               Traceback (most recent call last)",
      "Cell \u001B[1;32mIn[3], line 1\u001B[0m\n\u001B[1;32m----> 1\u001B[0m \u001B[43mna\u001B[49m\u001B[38;5;241;43m.\u001B[39;49m\u001B[43mbroadcast_shapes\u001B[49m\u001B[43m(\u001B[49m\u001B[43m(\u001B[49m\u001B[38;5;28;43mdict\u001B[39;49m\u001B[43m(\u001B[49m\u001B[43mx\u001B[49m\u001B[38;5;241;43m=\u001B[39;49m\u001B[38;5;241;43m2\u001B[39;49m\u001B[43m,\u001B[49m\u001B[43m \u001B[49m\u001B[43my\u001B[49m\u001B[38;5;241;43m=\u001B[39;49m\u001B[38;5;241;43m3\u001B[39;49m\u001B[43m)\u001B[49m\u001B[43m,\u001B[49m\u001B[43m \u001B[49m\u001B[38;5;28;43mdict\u001B[39;49m\u001B[43m(\u001B[49m\u001B[43my\u001B[49m\u001B[38;5;241;43m=\u001B[39;49m\u001B[38;5;241;43m3\u001B[39;49m\u001B[43m,\u001B[49m\u001B[43m \u001B[49m\u001B[43mz\u001B[49m\u001B[38;5;241;43m=\u001B[39;49m\u001B[38;5;241;43m4\u001B[39;49m\u001B[43m)\u001B[49m\u001B[43m)\u001B[49m\u001B[43m)\u001B[49m\n",
      "File \u001B[1;32m~\\AppData\\Local\\Programs\\Python\\Python311\\Lib\\site-packages\\numba\\core\\dispatcher.py:468\u001B[0m, in \u001B[0;36m_DispatcherBase._compile_for_args\u001B[1;34m(self, *args, **kws)\u001B[0m\n\u001B[0;32m    464\u001B[0m         msg \u001B[38;5;241m=\u001B[39m (\u001B[38;5;124mf\u001B[39m\u001B[38;5;124m\"\u001B[39m\u001B[38;5;132;01m{\u001B[39;00m\u001B[38;5;28mstr\u001B[39m(e)\u001B[38;5;241m.\u001B[39mrstrip()\u001B[38;5;132;01m}\u001B[39;00m\u001B[38;5;124m \u001B[39m\u001B[38;5;130;01m\\n\u001B[39;00m\u001B[38;5;130;01m\\n\u001B[39;00m\u001B[38;5;124mThis error may have been caused \u001B[39m\u001B[38;5;124m\"\u001B[39m\n\u001B[0;32m    465\u001B[0m                \u001B[38;5;124mf\u001B[39m\u001B[38;5;124m\"\u001B[39m\u001B[38;5;124mby the following argument(s):\u001B[39m\u001B[38;5;130;01m\\n\u001B[39;00m\u001B[38;5;132;01m{\u001B[39;00margs_str\u001B[38;5;132;01m}\u001B[39;00m\u001B[38;5;130;01m\\n\u001B[39;00m\u001B[38;5;124m\"\u001B[39m)\n\u001B[0;32m    466\u001B[0m         e\u001B[38;5;241m.\u001B[39mpatch_message(msg)\n\u001B[1;32m--> 468\u001B[0m     \u001B[43merror_rewrite\u001B[49m\u001B[43m(\u001B[49m\u001B[43me\u001B[49m\u001B[43m,\u001B[49m\u001B[43m \u001B[49m\u001B[38;5;124;43m'\u001B[39;49m\u001B[38;5;124;43mtyping\u001B[39;49m\u001B[38;5;124;43m'\u001B[39;49m\u001B[43m)\u001B[49m\n\u001B[0;32m    469\u001B[0m \u001B[38;5;28;01mexcept\u001B[39;00m errors\u001B[38;5;241m.\u001B[39mUnsupportedError \u001B[38;5;28;01mas\u001B[39;00m e:\n\u001B[0;32m    470\u001B[0m     \u001B[38;5;66;03m# Something unsupported is present in the user code, add help info\u001B[39;00m\n\u001B[0;32m    471\u001B[0m     error_rewrite(e, \u001B[38;5;124m'\u001B[39m\u001B[38;5;124munsupported_error\u001B[39m\u001B[38;5;124m'\u001B[39m)\n",
      "File \u001B[1;32m~\\AppData\\Local\\Programs\\Python\\Python311\\Lib\\site-packages\\numba\\core\\dispatcher.py:409\u001B[0m, in \u001B[0;36m_DispatcherBase._compile_for_args.<locals>.error_rewrite\u001B[1;34m(e, issue_type)\u001B[0m\n\u001B[0;32m    407\u001B[0m     \u001B[38;5;28;01mraise\u001B[39;00m e\n\u001B[0;32m    408\u001B[0m \u001B[38;5;28;01melse\u001B[39;00m:\n\u001B[1;32m--> 409\u001B[0m     \u001B[38;5;28;01mraise\u001B[39;00m e\u001B[38;5;241m.\u001B[39mwith_traceback(\u001B[38;5;28;01mNone\u001B[39;00m)\n",
      "\u001B[1;31mTypingError\u001B[0m: Failed in nopython mode pipeline (step: nopython frontend)\n\u001B[1m\u001B[1mnon-precise type pyobject\u001B[0m\n\u001B[0m\u001B[1mDuring: typing of argument at C:\\Users\\byrdie\\Kankelborg-Group\\named_arrays\\named_arrays\\_core.py (166)\u001B[0m\n\u001B[1m\nFile \"..\\..\\..\\..\\..\\..\\..\\named_arrays\\named_arrays\\_core.py\", line 166:\u001B[0m\n\u001B[1mdef type_array(\n    <source elided>\n\n\u001B[1m@numba.njit\n\u001B[0m\u001B[1m^\u001B[0m\u001B[0m \n\nThis error may have been caused by the following argument(s):\n- argument 0: \u001B[1mCannot determine Numba type of <class 'tuple'>\u001B[0m\n"
     ]
    }
   ],
   "source": [
    "na.broadcast_shapes((dict(x=2, y=3), dict(y=3, z=4)))"
   ],
   "metadata": {
    "collapsed": false,
    "ExecuteTime": {
     "end_time": "2024-03-11T23:11:57.763046Z",
     "start_time": "2024-03-11T23:11:56.450546Z"
    }
   },
   "id": "42da0236c8faa56b",
   "execution_count": 3
  },
  {
   "cell_type": "code",
   "outputs": [],
   "source": [
    "import numba\n",
    "\n",
    "@numba.njit\n",
    "def foo(*args: dict[str, int]):\n",
    "    for a in args:\n",
    "        print(a)"
   ],
   "metadata": {
    "collapsed": false,
    "ExecuteTime": {
     "end_time": "2024-03-11T23:15:59.548649Z",
     "start_time": "2024-03-11T23:15:59.474647Z"
    }
   },
   "id": "897aa12251333157",
   "execution_count": 4
  },
  {
   "cell_type": "code",
   "outputs": [
    {
     "name": "stdout",
     "output_type": "stream",
     "text": [
      "{x: 2}\n",
      "{x: 2}\n"
     ]
    }
   ],
   "source": [
    "foo(dd, dd)"
   ],
   "metadata": {
    "collapsed": false,
    "ExecuteTime": {
     "end_time": "2024-03-11T23:19:25.536346Z",
     "start_time": "2024-03-11T23:19:25.384344Z"
    }
   },
   "id": "6b4f841eb092a718",
   "execution_count": 14
  },
  {
   "cell_type": "code",
   "outputs": [
    {
     "data": {
      "text/plain": "DictType[unicode_type,int64]<iv=None>({x: 2})"
     },
     "execution_count": 13,
     "metadata": {},
     "output_type": "execute_result"
    }
   ],
   "source": [
    "dd = numba.typed.Dict()\n",
    "dd[\"x\"] = 2\n",
    "dd\n"
   ],
   "metadata": {
    "collapsed": false,
    "ExecuteTime": {
     "end_time": "2024-03-11T23:18:55.575095Z",
     "start_time": "2024-03-11T23:18:55.499096Z"
    }
   },
   "id": "97fc7d1464bb8dad",
   "execution_count": 13
  },
  {
   "cell_type": "code",
   "outputs": [],
   "source": [
    "p = np.random.uniform(0, 1, (11, 12, 13))"
   ],
   "metadata": {
    "collapsed": false,
    "ExecuteTime": {
     "end_time": "2024-03-12T03:21:06.236228Z",
     "start_time": "2024-03-12T03:21:06.166227Z"
    }
   },
   "id": "b7b496d55b1522fb",
   "execution_count": 19
  },
  {
   "cell_type": "code",
   "outputs": [
    {
     "name": "stdout",
     "output_type": "stream",
     "text": [
      "233 ns ± 13.8 ns per loop (mean ± std. dev. of 7 runs, 1,000,000 loops each)\n"
     ]
    }
   ],
   "source": [
    "%timeit np.shape(p)"
   ],
   "metadata": {
    "collapsed": false,
    "ExecuteTime": {
     "end_time": "2024-03-12T03:21:11.151037Z",
     "start_time": "2024-03-12T03:21:09.194538Z"
    }
   },
   "id": "e7d6cad9305c45df",
   "execution_count": 20
  },
  {
   "cell_type": "code",
   "outputs": [
    {
     "name": "stdout",
     "output_type": "stream",
     "text": [
      "49.5 ns ± 0.168 ns per loop (mean ± std. dev. of 7 runs, 10,000,000 loops each)\n"
     ]
    }
   ],
   "source": [
    "%timeit p.shape"
   ],
   "metadata": {
    "collapsed": false,
    "ExecuteTime": {
     "end_time": "2024-03-12T03:21:30.214578Z",
     "start_time": "2024-03-12T03:21:26.094578Z"
    }
   },
   "id": "dc6023ae7cb5dfab",
   "execution_count": 21
  },
  {
   "cell_type": "code",
   "outputs": [
    {
     "name": "stdout",
     "output_type": "stream",
     "text": [
      "177 ns ± 1.92 ns per loop (mean ± std. dev. of 7 runs, 10,000,000 loops each)\n"
     ]
    }
   ],
   "source": [
    "%timeit isinstance(a, na.AbstractArray)"
   ],
   "metadata": {
    "collapsed": false,
    "ExecuteTime": {
     "end_time": "2024-03-12T22:30:05.920918Z",
     "start_time": "2024-03-12T22:29:51.493421Z"
    }
   },
   "id": "a00695235071e46d",
   "execution_count": 121
  },
  {
   "cell_type": "code",
   "outputs": [
    {
     "name": "stdout",
     "output_type": "stream",
     "text": [
      "52.7 ns ± 1.18 ns per loop (mean ± std. dev. of 7 runs, 10,000,000 loops each)\n"
     ]
    }
   ],
   "source": [
    "%timeit hasattr(a, \"__named_array_function__\")"
   ],
   "metadata": {
    "collapsed": false,
    "ExecuteTime": {
     "end_time": "2024-03-12T22:30:34.642419Z",
     "start_time": "2024-03-12T22:30:30.244418Z"
    }
   },
   "id": "894843e8ce4a0013",
   "execution_count": 122
  },
  {
   "cell_type": "code",
   "outputs": [],
   "source": [
    "import astropy.units as u\n",
    "import astropy.coordinates"
   ],
   "metadata": {
    "collapsed": false,
    "ExecuteTime": {
     "end_time": "2024-03-13T01:04:50.514867Z",
     "start_time": "2024-03-13T01:04:50.443868Z"
    }
   },
   "id": "eac77f301c5e9f15",
   "execution_count": 172
  },
  {
   "cell_type": "code",
   "outputs": [
    {
     "ename": "ValueError",
     "evalue": "item not supported by array with type <class 'named_arrays._scalars.scalars.ScalarArray'>",
     "output_type": "error",
     "traceback": [
      "\u001B[1;31m---------------------------------------------------------------------------\u001B[0m",
      "\u001B[1;31mValueError\u001B[0m                                Traceback (most recent call last)",
      "Cell \u001B[1;32mIn[175], line 1\u001B[0m\n\u001B[1;32m----> 1\u001B[0m a \u001B[38;5;241m=\u001B[39m \u001B[43mastropy\u001B[49m\u001B[38;5;241;43m.\u001B[39;49m\u001B[43mcoordinates\u001B[49m\u001B[38;5;241;43m.\u001B[39;49m\u001B[43mSkyCoord\u001B[49m\u001B[43m(\u001B[49m\n\u001B[0;32m      2\u001B[0m \u001B[43m    \u001B[49m\u001B[43mra\u001B[49m\u001B[38;5;241;43m=\u001B[39;49m\u001B[43mna\u001B[49m\u001B[38;5;241;43m.\u001B[39;49m\u001B[43mScalarArray\u001B[49m\u001B[43m(\u001B[49m\u001B[43m[\u001B[49m\u001B[38;5;241;43m1\u001B[39;49m\u001B[43m,\u001B[49m\u001B[43m \u001B[49m\u001B[38;5;241;43m2\u001B[39;49m\u001B[43m,\u001B[49m\u001B[43m \u001B[49m\u001B[38;5;241;43m3\u001B[39;49m\u001B[43m]\u001B[49m\u001B[43m \u001B[49m\u001B[38;5;241;43m*\u001B[39;49m\u001B[43m \u001B[49m\u001B[43mu\u001B[49m\u001B[38;5;241;43m.\u001B[39;49m\u001B[43mdeg\u001B[49m\u001B[43m,\u001B[49m\u001B[43m \u001B[49m\u001B[43maxes\u001B[49m\u001B[38;5;241;43m=\u001B[39;49m\u001B[38;5;124;43m\"\u001B[39;49m\u001B[38;5;124;43mx\u001B[39;49m\u001B[38;5;124;43m\"\u001B[39;49m\u001B[43m)\u001B[49m\u001B[43m,\u001B[49m\n\u001B[0;32m      3\u001B[0m \u001B[43m    \u001B[49m\u001B[43mdec\u001B[49m\u001B[38;5;241;43m=\u001B[39;49m\u001B[43mna\u001B[49m\u001B[38;5;241;43m.\u001B[39;49m\u001B[43mScalarArray\u001B[49m\u001B[43m(\u001B[49m\u001B[43m[\u001B[49m\u001B[38;5;241;43m4\u001B[39;49m\u001B[43m,\u001B[49m\u001B[43m \u001B[49m\u001B[38;5;241;43m5\u001B[39;49m\u001B[43m,\u001B[49m\u001B[43m \u001B[49m\u001B[38;5;241;43m6\u001B[39;49m\u001B[43m]\u001B[49m\u001B[43m \u001B[49m\u001B[38;5;241;43m*\u001B[39;49m\u001B[43m \u001B[49m\u001B[43mu\u001B[49m\u001B[38;5;241;43m.\u001B[39;49m\u001B[43mdeg\u001B[49m\u001B[43m,\u001B[49m\u001B[43m \u001B[49m\u001B[43maxes\u001B[49m\u001B[38;5;241;43m=\u001B[39;49m\u001B[38;5;124;43m\"\u001B[39;49m\u001B[38;5;124;43mx\u001B[39;49m\u001B[38;5;124;43m\"\u001B[39;49m\u001B[43m)\u001B[49m\u001B[43m,\u001B[49m\n\u001B[0;32m      4\u001B[0m \u001B[43m    \u001B[49m\u001B[43mframe\u001B[49m\u001B[38;5;241;43m=\u001B[39;49m\u001B[38;5;124;43m\"\u001B[39;49m\u001B[38;5;124;43micrs\u001B[39;49m\u001B[38;5;124;43m\"\u001B[39;49m\u001B[43m,\u001B[49m\n\u001B[0;32m      5\u001B[0m \u001B[43m)\u001B[49m\n",
      "File \u001B[1;32m~\\Kankelborg-Group\\astropy\\astropy\\coordinates\\sky_coordinate.py:339\u001B[0m, in \u001B[0;36mSkyCoord.__init__\u001B[1;34m(self, copy, *args, **kwargs)\u001B[0m\n\u001B[0;32m    335\u001B[0m \u001B[38;5;66;03m# Parse the args and kwargs to assemble a sanitized and validated\u001B[39;00m\n\u001B[0;32m    336\u001B[0m \u001B[38;5;66;03m# kwargs dict for initializing attributes for this object and for\u001B[39;00m\n\u001B[0;32m    337\u001B[0m \u001B[38;5;66;03m# creating the internal self._sky_coord_frame object\u001B[39;00m\n\u001B[0;32m    338\u001B[0m args \u001B[38;5;241m=\u001B[39m \u001B[38;5;28mlist\u001B[39m(args)  \u001B[38;5;66;03m# Make it mutable\u001B[39;00m\n\u001B[1;32m--> 339\u001B[0m skycoord_kwargs, components, info \u001B[38;5;241m=\u001B[39m \u001B[43m_parse_coordinate_data\u001B[49m\u001B[43m(\u001B[49m\n\u001B[0;32m    340\u001B[0m \u001B[43m    \u001B[49m\u001B[43mframe_cls\u001B[49m\u001B[43m(\u001B[49m\u001B[38;5;241;43m*\u001B[39;49m\u001B[38;5;241;43m*\u001B[39;49m\u001B[43mframe_kwargs\u001B[49m\u001B[43m)\u001B[49m\u001B[43m,\u001B[49m\u001B[43m \u001B[49m\u001B[43margs\u001B[49m\u001B[43m,\u001B[49m\u001B[43m \u001B[49m\u001B[43mkwargs\u001B[49m\n\u001B[0;32m    341\u001B[0m \u001B[43m\u001B[49m\u001B[43m)\u001B[49m\n\u001B[0;32m    343\u001B[0m \u001B[38;5;66;03m# In the above two parsing functions, these kwargs were identified\u001B[39;00m\n\u001B[0;32m    344\u001B[0m \u001B[38;5;66;03m# as valid frame attributes for *some* frame, but not the frame that\u001B[39;00m\n\u001B[0;32m    345\u001B[0m \u001B[38;5;66;03m# this SkyCoord will have. We keep these attributes as special\u001B[39;00m\n\u001B[0;32m    346\u001B[0m \u001B[38;5;66;03m# skycoord frame attributes:\u001B[39;00m\n\u001B[0;32m    347\u001B[0m \u001B[38;5;28;01mfor\u001B[39;00m attr \u001B[38;5;129;01min\u001B[39;00m skycoord_kwargs:\n\u001B[0;32m    348\u001B[0m     \u001B[38;5;66;03m# Setting it will also validate it.\u001B[39;00m\n",
      "File \u001B[1;32m~\\Kankelborg-Group\\astropy\\astropy\\coordinates\\sky_coordinate_parsers.py:253\u001B[0m, in \u001B[0;36m_parse_coordinate_data\u001B[1;34m(frame, args, kwargs)\u001B[0m\n\u001B[0;32m    249\u001B[0m units \u001B[38;5;241m=\u001B[39m _get_representation_component_units(args, kwargs)\n\u001B[0;32m    251\u001B[0m \u001B[38;5;66;03m# Grab any frame-specific attr names like `ra` or `l` or `distance` from\u001B[39;00m\n\u001B[0;32m    252\u001B[0m \u001B[38;5;66;03m# kwargs and move them to valid_components.\u001B[39;00m\n\u001B[1;32m--> 253\u001B[0m valid_components\u001B[38;5;241m.\u001B[39mupdate(\u001B[43m_get_representation_attrs\u001B[49m\u001B[43m(\u001B[49m\u001B[43mframe\u001B[49m\u001B[43m,\u001B[49m\u001B[43m \u001B[49m\u001B[43munits\u001B[49m\u001B[43m,\u001B[49m\u001B[43m \u001B[49m\u001B[43mkwargs\u001B[49m\u001B[43m)\u001B[49m)\n\u001B[0;32m    255\u001B[0m \u001B[38;5;66;03m# Error if anything is still left in kwargs\u001B[39;00m\n\u001B[0;32m    256\u001B[0m \u001B[38;5;28;01mif\u001B[39;00m kwargs:\n\u001B[0;32m    257\u001B[0m     \u001B[38;5;66;03m# The next few lines add a more user-friendly error message to a\u001B[39;00m\n\u001B[0;32m    258\u001B[0m     \u001B[38;5;66;03m# common and confusing situation when the user specifies, e.g.,\u001B[39;00m\n\u001B[0;32m    259\u001B[0m     \u001B[38;5;66;03m# `pm_ra` when they really should be passing `pm_ra_cosdec`. The\u001B[39;00m\n\u001B[0;32m    260\u001B[0m     \u001B[38;5;66;03m# extra error should only turn on when the positional representation\u001B[39;00m\n\u001B[0;32m    261\u001B[0m     \u001B[38;5;66;03m# is spherical, and when the component 'pm_<lon>' is passed.\u001B[39;00m\n",
      "File \u001B[1;32m~\\Kankelborg-Group\\astropy\\astropy\\coordinates\\sky_coordinate_parsers.py:631\u001B[0m, in \u001B[0;36m_get_representation_attrs\u001B[1;34m(frame, units, kwargs)\u001B[0m\n\u001B[0;32m    629\u001B[0m \u001B[38;5;28;01mif\u001B[39;00m value \u001B[38;5;129;01mis\u001B[39;00m \u001B[38;5;129;01mnot\u001B[39;00m \u001B[38;5;28;01mNone\u001B[39;00m:\n\u001B[0;32m    630\u001B[0m     \u001B[38;5;28;01mtry\u001B[39;00m:\n\u001B[1;32m--> 631\u001B[0m         valid_kwargs[frame_attr_name] \u001B[38;5;241m=\u001B[39m \u001B[43mrepr_attr_class\u001B[49m\u001B[43m(\u001B[49m\u001B[43mvalue\u001B[49m\u001B[43m,\u001B[49m\u001B[43m \u001B[49m\u001B[43munit\u001B[49m\u001B[38;5;241;43m=\u001B[39;49m\u001B[43munit\u001B[49m\u001B[43m)\u001B[49m\n\u001B[0;32m    632\u001B[0m     \u001B[38;5;28;01mexcept\u001B[39;00m u\u001B[38;5;241m.\u001B[39mUnitConversionError \u001B[38;5;28;01mas\u001B[39;00m err:\n\u001B[0;32m    633\u001B[0m         error_message \u001B[38;5;241m=\u001B[39m (\n\u001B[0;32m    634\u001B[0m             \u001B[38;5;124mf\u001B[39m\u001B[38;5;124m\"\u001B[39m\u001B[38;5;124mUnit \u001B[39m\u001B[38;5;124m'\u001B[39m\u001B[38;5;132;01m{\u001B[39;00munit\u001B[38;5;132;01m}\u001B[39;00m\u001B[38;5;124m'\u001B[39m\u001B[38;5;124m (\u001B[39m\u001B[38;5;132;01m{\u001B[39;00munit\u001B[38;5;241m.\u001B[39mphysical_type\u001B[38;5;132;01m}\u001B[39;00m\u001B[38;5;124m) could not be applied to\u001B[39m\u001B[38;5;124m\"\u001B[39m\n\u001B[0;32m    635\u001B[0m             \u001B[38;5;124mf\u001B[39m\u001B[38;5;124m\"\u001B[39m\u001B[38;5;124m \u001B[39m\u001B[38;5;124m'\u001B[39m\u001B[38;5;132;01m{\u001B[39;00mframe_attr_name\u001B[38;5;132;01m}\u001B[39;00m\u001B[38;5;124m'\u001B[39m\u001B[38;5;124m. This can occur when passing units for some\u001B[39m\u001B[38;5;124m\"\u001B[39m\n\u001B[1;32m   (...)\u001B[0m\n\u001B[0;32m    639\u001B[0m             \u001B[38;5;124m\"\u001B[39m\u001B[38;5;124m components.\u001B[39m\u001B[38;5;124m\"\u001B[39m\n\u001B[0;32m    640\u001B[0m         )\n",
      "File \u001B[1;32m~\\Kankelborg-Group\\astropy\\astropy\\coordinates\\angles.py:667\u001B[0m, in \u001B[0;36mLongitude.__new__\u001B[1;34m(cls, angle, unit, wrap_angle, **kwargs)\u001B[0m\n\u001B[0;32m    663\u001B[0m \u001B[38;5;28;01mif\u001B[39;00m \u001B[38;5;28misinstance\u001B[39m(angle, Latitude):\n\u001B[0;32m    664\u001B[0m     \u001B[38;5;28;01mraise\u001B[39;00m \u001B[38;5;167;01mTypeError\u001B[39;00m(\n\u001B[0;32m    665\u001B[0m         \u001B[38;5;124m\"\u001B[39m\u001B[38;5;124mA Longitude angle cannot be created from a Latitude angle.\u001B[39m\u001B[38;5;124m\"\u001B[39m\n\u001B[0;32m    666\u001B[0m     )\n\u001B[1;32m--> 667\u001B[0m \u001B[38;5;28mself\u001B[39m \u001B[38;5;241m=\u001B[39m \u001B[38;5;28;43msuper\u001B[39;49m\u001B[43m(\u001B[49m\u001B[43m)\u001B[49m\u001B[38;5;241;43m.\u001B[39;49m\u001B[38;5;21;43m__new__\u001B[39;49m\u001B[43m(\u001B[49m\u001B[38;5;28;43mcls\u001B[39;49m\u001B[43m,\u001B[49m\u001B[43m \u001B[49m\u001B[43mangle\u001B[49m\u001B[43m,\u001B[49m\u001B[43m \u001B[49m\u001B[43munit\u001B[49m\u001B[38;5;241;43m=\u001B[39;49m\u001B[43munit\u001B[49m\u001B[43m,\u001B[49m\u001B[43m \u001B[49m\u001B[38;5;241;43m*\u001B[39;49m\u001B[38;5;241;43m*\u001B[39;49m\u001B[43mkwargs\u001B[49m\u001B[43m)\u001B[49m\n\u001B[0;32m    668\u001B[0m \u001B[38;5;28;01mif\u001B[39;00m wrap_angle \u001B[38;5;129;01mis\u001B[39;00m \u001B[38;5;28;01mNone\u001B[39;00m:\n\u001B[0;32m    669\u001B[0m     wrap_angle \u001B[38;5;241m=\u001B[39m \u001B[38;5;28mgetattr\u001B[39m(angle, \u001B[38;5;124m\"\u001B[39m\u001B[38;5;124mwrap_angle\u001B[39m\u001B[38;5;124m\"\u001B[39m, \u001B[38;5;28mself\u001B[39m\u001B[38;5;241m.\u001B[39m_default_wrap_angle)\n",
      "File \u001B[1;32m~\\Kankelborg-Group\\astropy\\astropy\\coordinates\\angles.py:140\u001B[0m, in \u001B[0;36mAngle.__new__\u001B[1;34m(cls, angle, unit, dtype, copy, **kwargs)\u001B[0m\n\u001B[0;32m    135\u001B[0m             angle \u001B[38;5;241m=\u001B[39m u\u001B[38;5;241m.\u001B[39mQuantity(angle, angle_unit, copy\u001B[38;5;241m=\u001B[39m\u001B[38;5;28;01mFalse\u001B[39;00m)\n\u001B[0;32m    137\u001B[0m     \u001B[38;5;28;01melif\u001B[39;00m isiterable(angle) \u001B[38;5;129;01mand\u001B[39;00m \u001B[38;5;129;01mnot\u001B[39;00m (\n\u001B[0;32m    138\u001B[0m         \u001B[38;5;28misinstance\u001B[39m(angle, np\u001B[38;5;241m.\u001B[39mndarray) \u001B[38;5;129;01mand\u001B[39;00m angle\u001B[38;5;241m.\u001B[39mdtype\u001B[38;5;241m.\u001B[39mkind \u001B[38;5;129;01mnot\u001B[39;00m \u001B[38;5;129;01min\u001B[39;00m \u001B[38;5;124m\"\u001B[39m\u001B[38;5;124mSUVO\u001B[39m\u001B[38;5;124m\"\u001B[39m\n\u001B[0;32m    139\u001B[0m     ):\n\u001B[1;32m--> 140\u001B[0m         angle \u001B[38;5;241m=\u001B[39m \u001B[43m[\u001B[49m\u001B[43mAngle\u001B[49m\u001B[43m(\u001B[49m\u001B[43mx\u001B[49m\u001B[43m,\u001B[49m\u001B[43m \u001B[49m\u001B[43munit\u001B[49m\u001B[43m,\u001B[49m\u001B[43m \u001B[49m\u001B[43mcopy\u001B[49m\u001B[38;5;241;43m=\u001B[39;49m\u001B[38;5;28;43;01mFalse\u001B[39;49;00m\u001B[43m)\u001B[49m\u001B[43m \u001B[49m\u001B[38;5;28;43;01mfor\u001B[39;49;00m\u001B[43m \u001B[49m\u001B[43mx\u001B[49m\u001B[43m \u001B[49m\u001B[38;5;129;43;01min\u001B[39;49;00m\u001B[43m \u001B[49m\u001B[43mangle\u001B[49m\u001B[43m]\u001B[49m\n\u001B[0;32m    142\u001B[0m \u001B[38;5;28;01mreturn\u001B[39;00m \u001B[38;5;28msuper\u001B[39m()\u001B[38;5;241m.\u001B[39m\u001B[38;5;21m__new__\u001B[39m(\u001B[38;5;28mcls\u001B[39m, angle, unit, dtype\u001B[38;5;241m=\u001B[39mdtype, copy\u001B[38;5;241m=\u001B[39mcopy, \u001B[38;5;241m*\u001B[39m\u001B[38;5;241m*\u001B[39mkwargs)\n",
      "File \u001B[1;32m~\\Kankelborg-Group\\astropy\\astropy\\coordinates\\angles.py:140\u001B[0m, in \u001B[0;36m<listcomp>\u001B[1;34m(.0)\u001B[0m\n\u001B[0;32m    135\u001B[0m             angle \u001B[38;5;241m=\u001B[39m u\u001B[38;5;241m.\u001B[39mQuantity(angle, angle_unit, copy\u001B[38;5;241m=\u001B[39m\u001B[38;5;28;01mFalse\u001B[39;00m)\n\u001B[0;32m    137\u001B[0m     \u001B[38;5;28;01melif\u001B[39;00m isiterable(angle) \u001B[38;5;129;01mand\u001B[39;00m \u001B[38;5;129;01mnot\u001B[39;00m (\n\u001B[0;32m    138\u001B[0m         \u001B[38;5;28misinstance\u001B[39m(angle, np\u001B[38;5;241m.\u001B[39mndarray) \u001B[38;5;129;01mand\u001B[39;00m angle\u001B[38;5;241m.\u001B[39mdtype\u001B[38;5;241m.\u001B[39mkind \u001B[38;5;129;01mnot\u001B[39;00m \u001B[38;5;129;01min\u001B[39;00m \u001B[38;5;124m\"\u001B[39m\u001B[38;5;124mSUVO\u001B[39m\u001B[38;5;124m\"\u001B[39m\n\u001B[0;32m    139\u001B[0m     ):\n\u001B[1;32m--> 140\u001B[0m         angle \u001B[38;5;241m=\u001B[39m [Angle(x, unit, copy\u001B[38;5;241m=\u001B[39m\u001B[38;5;28;01mFalse\u001B[39;00m) \u001B[38;5;28;01mfor\u001B[39;00m x \u001B[38;5;129;01min\u001B[39;00m angle]\n\u001B[0;32m    142\u001B[0m \u001B[38;5;28;01mreturn\u001B[39;00m \u001B[38;5;28msuper\u001B[39m()\u001B[38;5;241m.\u001B[39m\u001B[38;5;21m__new__\u001B[39m(\u001B[38;5;28mcls\u001B[39m, angle, unit, dtype\u001B[38;5;241m=\u001B[39mdtype, copy\u001B[38;5;241m=\u001B[39mcopy, \u001B[38;5;241m*\u001B[39m\u001B[38;5;241m*\u001B[39mkwargs)\n",
      "File \u001B[1;32m~\\Kankelborg-Group\\named_arrays\\named_arrays\\_core.py:605\u001B[0m, in \u001B[0;36mAbstractArray.__getitem__\u001B[1;34m(self, item)\u001B[0m\n\u001B[0;32m    602\u001B[0m         \u001B[38;5;28;01mif\u001B[39;00m result \u001B[38;5;129;01mis\u001B[39;00m \u001B[38;5;129;01mnot\u001B[39;00m \u001B[38;5;28mNotImplemented\u001B[39m:\n\u001B[0;32m    603\u001B[0m             \u001B[38;5;28;01mreturn\u001B[39;00m result\n\u001B[1;32m--> 605\u001B[0m \u001B[38;5;28;01mraise\u001B[39;00m \u001B[38;5;167;01mValueError\u001B[39;00m(\u001B[38;5;124mf\u001B[39m\u001B[38;5;124m\"\u001B[39m\u001B[38;5;124mitem not supported by array with type \u001B[39m\u001B[38;5;132;01m{\u001B[39;00m\u001B[38;5;28mtype\u001B[39m(\u001B[38;5;28mself\u001B[39m)\u001B[38;5;132;01m}\u001B[39;00m\u001B[38;5;124m\"\u001B[39m)\n",
      "\u001B[1;31mValueError\u001B[0m: item not supported by array with type <class 'named_arrays._scalars.scalars.ScalarArray'>"
     ]
    }
   ],
   "source": [
    "a = astropy.coordinates.SkyCoord(\n",
    "    ra=na.ScalarArray([1, 2, 3] * u.deg, axes=\"x\"),\n",
    "    dec=na.ScalarArray([4, 5, 6] * u.deg, axes=\"x\"),\n",
    "    frame=\"icrs\",\n",
    ")"
   ],
   "metadata": {
    "collapsed": false,
    "ExecuteTime": {
     "end_time": "2024-03-13T01:05:40.570069Z",
     "start_time": "2024-03-13T01:05:40.444569Z"
    }
   },
   "id": "1ac2e24f1014f337",
   "execution_count": 175
  },
  {
   "cell_type": "code",
   "outputs": [
    {
     "name": "stdout",
     "output_type": "stream",
     "text": [
      "9.97 ns ± 0.0167 ns per loop (mean ± std. dev. of 7 runs, 100,000,000 loops each)\n"
     ]
    }
   ],
   "source": [
    "%timeit a = ()"
   ],
   "metadata": {
    "collapsed": false,
    "ExecuteTime": {
     "end_time": "2024-03-13T01:34:21.422841Z",
     "start_time": "2024-03-13T01:34:13.233852Z"
    }
   },
   "id": "a03e49c241463829",
   "execution_count": 178
  },
  {
   "cell_type": "code",
   "outputs": [
    {
     "name": "stdout",
     "output_type": "stream",
     "text": [
      "17.5 ns ± 0.0237 ns per loop (mean ± std. dev. of 7 runs, 100,000,000 loops each)\n"
     ]
    }
   ],
   "source": [
    "%timeit a = tuple()"
   ],
   "metadata": {
    "collapsed": false,
    "ExecuteTime": {
     "end_time": "2024-03-13T01:34:38.729186Z",
     "start_time": "2024-03-13T01:34:24.401186Z"
    }
   },
   "id": "8c1608c607b11e7b",
   "execution_count": 179
  },
  {
   "cell_type": "code",
   "outputs": [
    {
     "data": {
      "text/plain": "tuple"
     },
     "execution_count": 180,
     "metadata": {},
     "output_type": "execute_result"
    }
   ],
   "source": [
    "type(())"
   ],
   "metadata": {
    "collapsed": false,
    "ExecuteTime": {
     "end_time": "2024-03-13T01:35:03.064710Z",
     "start_time": "2024-03-13T01:34:55.345209Z"
    }
   },
   "id": "5998a7c62d8a4bd8",
   "execution_count": 180
  },
  {
   "cell_type": "code",
   "outputs": [
    {
     "name": "stdout",
     "output_type": "stream",
     "text": [
      "537 ns ± 9.2 ns per loop (mean ± std. dev. of 7 runs, 1,000,000 loops each)\n"
     ]
    }
   ],
   "source": [
    "v = np.random.uniform(0, 1, (11, 11))\n",
    "%timeit a = na.ScalarArray(v, axes=(\"x\", \"y\"))"
   ],
   "metadata": {
    "collapsed": false,
    "ExecuteTime": {
     "end_time": "2024-03-13T01:41:33.126018Z",
     "start_time": "2024-03-13T01:41:28.639515Z"
    }
   },
   "id": "190754dbb8c61e1b",
   "execution_count": 189
  },
  {
   "cell_type": "code",
   "outputs": [],
   "source": [
    "a = na.NormalUncertainScalarArray(na.linspace(0, 1, axis=\"x\", num=10), width=1, num_distribution=11)"
   ],
   "metadata": {
    "collapsed": false,
    "ExecuteTime": {
     "end_time": "2024-03-13T02:47:50.771890Z",
     "start_time": "2024-03-13T02:47:50.697892Z"
    }
   },
   "id": "45af964fd55069f0",
   "execution_count": 204
  },
  {
   "cell_type": "code",
   "outputs": [
    {
     "data": {
      "text/plain": "UncertainScalarArray(\n    nominal=ScalarArray(\n        ndarray=[0.        , 0.11111111, 0.22222222, 0.33333333,\n                 0.44444444, 0.55555556, 0.66666667, 0.77777778,\n                 0.88888889, 1.        ],\n        axes=('x',),\n    ),\n    distribution=ScalarNormalRandomSample(center=ScalarArray(\n    ndarray=[0.        , 0.11111111, 0.22222222, 0.33333333, 0.44444444,\n             0.55555556, 0.66666667, 0.77777778, 0.88888889, 1.        ],\n    axes=('x',),\n), width=1, shape_random={'_distribution': 11}, seed=271658078407812919252693287150346625703),\n)"
     },
     "execution_count": 207,
     "metadata": {},
     "output_type": "execute_result"
    }
   ],
   "source": [
    "a.explicit"
   ],
   "metadata": {
    "collapsed": false,
    "ExecuteTime": {
     "end_time": "2024-03-13T02:48:05.828545Z",
     "start_time": "2024-03-13T02:48:05.755046Z"
    }
   },
   "id": "5809a4abf659f7af",
   "execution_count": 207
  },
  {
   "cell_type": "code",
   "outputs": [
    {
     "data": {
      "text/plain": "{'x': 10, '_distribution': 11}"
     },
     "execution_count": 208,
     "metadata": {},
     "output_type": "execute_result"
    }
   ],
   "source": [
    "a.shape_distribution"
   ],
   "metadata": {
    "collapsed": false,
    "ExecuteTime": {
     "end_time": "2024-03-13T02:48:31.915837Z",
     "start_time": "2024-03-13T02:48:31.843335Z"
    }
   },
   "id": "d0999d04f9981b2d",
   "execution_count": 208
  },
  {
   "cell_type": "code",
   "outputs": [],
   "source": [
    "a = na.UncertainScalarArray(\n",
    "    nominal=na.ScalarArray(\n",
    "        ndarray=np.array([ True,  True]),\n",
    "        axes=('y',),\n",
    "    ),\n",
    "    distribution=na.ScalarArray(\n",
    "        ndarray=np.array([[ True],\n",
    "                 [ True]]),\n",
    "        axes=('y', '_distribution'),\n",
    "    ),\n",
    ")"
   ],
   "metadata": {
    "collapsed": false,
    "ExecuteTime": {
     "end_time": "2024-03-13T02:52:05.508365Z",
     "start_time": "2024-03-13T02:52:05.434867Z"
    }
   },
   "id": "a2975b09323b7b54",
   "execution_count": 209
  },
  {
   "cell_type": "code",
   "outputs": [
    {
     "data": {
      "text/plain": "{'y': 2}"
     },
     "execution_count": 210,
     "metadata": {},
     "output_type": "execute_result"
    }
   ],
   "source": [
    "a.shape"
   ],
   "metadata": {
    "collapsed": false,
    "ExecuteTime": {
     "end_time": "2024-03-13T02:52:09.337942Z",
     "start_time": "2024-03-13T02:52:09.263941Z"
    }
   },
   "id": "4b8dad2e1c993318",
   "execution_count": 210
  },
  {
   "cell_type": "code",
   "outputs": [],
   "source": [],
   "metadata": {
    "collapsed": false
   },
   "id": "3249552ee180c230"
  }
 ],
 "metadata": {
  "kernelspec": {
   "display_name": "Python 3",
   "language": "python",
   "name": "python3"
  },
  "language_info": {
   "codemirror_mode": {
    "name": "ipython",
    "version": 2
   },
   "file_extension": ".py",
   "mimetype": "text/x-python",
   "name": "python",
   "nbconvert_exporter": "python",
   "pygments_lexer": "ipython2",
   "version": "2.7.6"
  }
 },
 "nbformat": 4,
 "nbformat_minor": 5
}
